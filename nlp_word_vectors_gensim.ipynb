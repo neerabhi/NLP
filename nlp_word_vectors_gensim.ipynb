{
  "cells": [
    {
      "cell_type": "markdown",
      "metadata": {
        "id": "view-in-github",
        "colab_type": "text"
      },
      "source": [
        "<a href=\"https://colab.research.google.com/github/neerabhi/NLP/blob/main/nlp_word_vectors_gensim.ipynb\" target=\"_parent\"><img src=\"https://colab.research.google.com/assets/colab-badge.svg\" alt=\"Open In Colab\"/></a>"
      ]
    },
    {
      "cell_type": "markdown",
      "id": "33252ddf",
      "metadata": {
        "id": "33252ddf"
      },
      "source": [
        "<h3>NLP Tutorial: Word Vectors Overview Using Gensim Library</h3>"
      ]
    },
    {
      "cell_type": "markdown",
      "id": "18a0003a",
      "metadata": {
        "id": "18a0003a"
      },
      "source": [
        "All gensim models are listed on this page: https://github.com/RaRe-Technologies/gensim-data"
      ]
    },
    {
      "cell_type": "code",
      "execution_count": 3,
      "id": "82646d75",
      "metadata": {
        "scrolled": true,
        "colab": {
          "base_uri": "https://localhost:8080/"
        },
        "id": "82646d75",
        "outputId": "4dda8fe6-9f5f-4d9d-a279-0aab61980364"
      },
      "outputs": [
        {
          "output_type": "stream",
          "name": "stdout",
          "text": [
            "Requirement already satisfied: gensim in /usr/local/lib/python3.11/dist-packages (4.3.3)\n",
            "Requirement already satisfied: numpy<2.0,>=1.18.5 in /usr/local/lib/python3.11/dist-packages (from gensim) (1.26.4)\n",
            "Requirement already satisfied: scipy<1.14.0,>=1.7.0 in /usr/local/lib/python3.11/dist-packages (from gensim) (1.13.1)\n",
            "Requirement already satisfied: smart-open>=1.8.1 in /usr/local/lib/python3.11/dist-packages (from gensim) (7.1.0)\n",
            "Requirement already satisfied: wrapt in /usr/local/lib/python3.11/dist-packages (from smart-open>=1.8.1->gensim) (1.17.2)\n"
          ]
        }
      ],
      "source": [
        "!pip install --upgrade gensim\n"
      ]
    },
    {
      "cell_type": "code",
      "source": [
        "!pip install numpy==1.23.5 --force-reinstall\n",
        "!pip install --upgrade gensim"
      ],
      "metadata": {
        "colab": {
          "base_uri": "https://localhost:8080/",
          "height": 721
        },
        "id": "1rQdzyzrsQz7",
        "outputId": "b0eb37a0-d1bb-4cf0-9284-c6995ca93f3f"
      },
      "id": "1rQdzyzrsQz7",
      "execution_count": 5,
      "outputs": [
        {
          "output_type": "stream",
          "name": "stdout",
          "text": [
            "Collecting numpy==1.23.5\n",
            "  Downloading numpy-1.23.5-cp311-cp311-manylinux_2_17_x86_64.manylinux2014_x86_64.whl.metadata (2.3 kB)\n",
            "Downloading numpy-1.23.5-cp311-cp311-manylinux_2_17_x86_64.manylinux2014_x86_64.whl (17.1 MB)\n",
            "\u001b[2K   \u001b[90m━━━━━━━━━━━━━━━━━━━━━━━━━━━━━━━━━━━━━━━━\u001b[0m \u001b[32m17.1/17.1 MB\u001b[0m \u001b[31m78.9 MB/s\u001b[0m eta \u001b[36m0:00:00\u001b[0m\n",
            "\u001b[?25hInstalling collected packages: numpy\n",
            "  Attempting uninstall: numpy\n",
            "    Found existing installation: numpy 1.26.4\n",
            "    Uninstalling numpy-1.26.4:\n",
            "      Successfully uninstalled numpy-1.26.4\n",
            "\u001b[31mERROR: pip's dependency resolver does not currently take into account all the packages that are installed. This behaviour is the source of the following dependency conflicts.\n",
            "jaxlib 0.5.1 requires numpy>=1.25, but you have numpy 1.23.5 which is incompatible.\n",
            "jax 0.5.2 requires numpy>=1.25, but you have numpy 1.23.5 which is incompatible.\n",
            "xarray 2025.3.1 requires numpy>=1.24, but you have numpy 1.23.5 which is incompatible.\n",
            "tensorflow 2.18.0 requires numpy<2.1.0,>=1.26.0, but you have numpy 1.23.5 which is incompatible.\n",
            "bigframes 2.4.0 requires numpy>=1.24.0, but you have numpy 1.23.5 which is incompatible.\n",
            "blosc2 3.3.2 requires numpy>=1.26, but you have numpy 1.23.5 which is incompatible.\n",
            "chex 0.1.89 requires numpy>=1.24.1, but you have numpy 1.23.5 which is incompatible.\n",
            "treescope 0.1.9 requires numpy>=1.25.2, but you have numpy 1.23.5 which is incompatible.\n",
            "scikit-image 0.25.2 requires numpy>=1.24, but you have numpy 1.23.5 which is incompatible.\n",
            "pymc 5.22.0 requires numpy>=1.25.0, but you have numpy 1.23.5 which is incompatible.\n",
            "imbalanced-learn 0.13.0 requires numpy<3,>=1.24.3, but you have numpy 1.23.5 which is incompatible.\n",
            "thinc 8.3.6 requires numpy<3.0.0,>=2.0.0, but you have numpy 1.23.5 which is incompatible.\n",
            "albumentations 2.0.6 requires numpy>=1.24.4, but you have numpy 1.23.5 which is incompatible.\n",
            "tsfresh 0.21.0 requires scipy>=1.14.0; python_version >= \"3.10\", but you have scipy 1.13.1 which is incompatible.\n",
            "albucore 0.0.24 requires numpy>=1.24.4, but you have numpy 1.23.5 which is incompatible.\n",
            "db-dtypes 1.4.3 requires numpy>=1.24.0, but you have numpy 1.23.5 which is incompatible.\u001b[0m\u001b[31m\n",
            "\u001b[0mSuccessfully installed numpy-1.23.5\n"
          ]
        },
        {
          "output_type": "display_data",
          "data": {
            "application/vnd.colab-display-data+json": {
              "pip_warning": {
                "packages": [
                  "numpy"
                ]
              },
              "id": "f9ca06cf40534ac29c3bd112e7ea2288"
            }
          },
          "metadata": {}
        },
        {
          "output_type": "stream",
          "name": "stdout",
          "text": [
            "Requirement already satisfied: gensim in /usr/local/lib/python3.11/dist-packages (4.3.3)\n",
            "Requirement already satisfied: numpy<2.0,>=1.18.5 in /usr/local/lib/python3.11/dist-packages (from gensim) (1.23.5)\n",
            "Requirement already satisfied: scipy<1.14.0,>=1.7.0 in /usr/local/lib/python3.11/dist-packages (from gensim) (1.13.1)\n",
            "Requirement already satisfied: smart-open>=1.8.1 in /usr/local/lib/python3.11/dist-packages (from gensim) (7.1.0)\n",
            "Requirement already satisfied: wrapt in /usr/local/lib/python3.11/dist-packages (from smart-open>=1.8.1->gensim) (1.17.2)\n"
          ]
        }
      ]
    },
    {
      "cell_type": "code",
      "source": [
        "import gensim.downloader as api\n",
        "\n",
        "# This will download and load the Google News vectors (~1.6 GB)\n",
        "#wv = api.load('word2vec-google-news-300')\n"
      ],
      "metadata": {
        "id": "QPVdLcKfsG2l"
      },
      "id": "QPVdLcKfsG2l",
      "execution_count": 9,
      "outputs": []
    },
    {
      "cell_type": "code",
      "execution_count": 4,
      "id": "123d8ee5",
      "metadata": {
        "colab": {
          "base_uri": "https://localhost:8080/"
        },
        "id": "123d8ee5",
        "outputId": "a01df382-91c6-448a-8f52-8d3ddc4097de"
      },
      "outputs": [
        {
          "output_type": "execute_result",
          "data": {
            "text/plain": [
              "0.7006069"
            ]
          },
          "metadata": {},
          "execution_count": 4
        }
      ],
      "source": [
        "wv.similarity(w1=\"great\", w2=\"good\")"
      ]
    },
    {
      "cell_type": "code",
      "execution_count": null,
      "id": "74496bc7",
      "metadata": {
        "id": "74496bc7",
        "outputId": "c04846d0-90df-4426-df7b-35003f1d2b86"
      },
      "outputs": [
        {
          "data": {
            "text/plain": [
              "[('great', 0.7291510105133057),\n",
              " ('bad', 0.7190051078796387),\n",
              " ('terrific', 0.6889115571975708),\n",
              " ('decent', 0.6837348341941833),\n",
              " ('nice', 0.6836092472076416),\n",
              " ('excellent', 0.644292950630188),\n",
              " ('fantastic', 0.6407778263092041),\n",
              " ('better', 0.6120728850364685),\n",
              " ('solid', 0.5806034803390503),\n",
              " ('lousy', 0.576420247554779)]"
            ]
          },
          "execution_count": 78,
          "metadata": {},
          "output_type": "execute_result"
        }
      ],
      "source": [
        "wv.most_similar(\"good\")"
      ]
    },
    {
      "cell_type": "code",
      "execution_count": null,
      "id": "e692b6f0",
      "metadata": {
        "id": "e692b6f0",
        "outputId": "7f9ec4db-9f6d-476e-d14f-67c0917e9de0"
      },
      "outputs": [
        {
          "data": {
            "text/plain": [
              "[('dogs', 0.8680489659309387),\n",
              " ('puppy', 0.8106428384780884),\n",
              " ('pit_bull', 0.780396044254303),\n",
              " ('pooch', 0.7627376914024353),\n",
              " ('cat', 0.7609457969665527),\n",
              " ('golden_retriever', 0.7500901818275452),\n",
              " ('German_shepherd', 0.7465174198150635),\n",
              " ('Rottweiler', 0.7437615394592285),\n",
              " ('beagle', 0.7418621778488159),\n",
              " ('pup', 0.740691065788269)]"
            ]
          },
          "execution_count": 79,
          "metadata": {},
          "output_type": "execute_result"
        }
      ],
      "source": [
        "wv.most_similar(\"dog\")"
      ]
    },
    {
      "cell_type": "code",
      "execution_count": null,
      "id": "1ec84cbe",
      "metadata": {
        "id": "1ec84cbe",
        "outputId": "80b6c22c-5273-4fce-8fea-c4027f68bfdf"
      },
      "outputs": [
        {
          "data": {
            "text/plain": [
              "[('queen', 0.7118193507194519),\n",
              " ('monarch', 0.6189674139022827),\n",
              " ('princess', 0.5902431011199951),\n",
              " ('crown_prince', 0.5499460697174072),\n",
              " ('prince', 0.5377321839332581)]"
            ]
          },
          "execution_count": 81,
          "metadata": {},
          "output_type": "execute_result"
        }
      ],
      "source": [
        "wv.most_similar(positive=['king', 'woman'], negative=['man'], topn=5)"
      ]
    },
    {
      "cell_type": "code",
      "execution_count": null,
      "id": "c6b2589c",
      "metadata": {
        "id": "c6b2589c",
        "outputId": "dae67de5-67c5-45ca-cfd4-dc4ac8d8630e"
      },
      "outputs": [
        {
          "data": {
            "text/plain": [
              "[('germany', 0.5094343423843384),\n",
              " ('european', 0.48650455474853516),\n",
              " ('german', 0.4714890420436859),\n",
              " ('austria', 0.46964022517204285),\n",
              " ('swedish', 0.4645182490348816)]"
            ]
          },
          "execution_count": 83,
          "metadata": {},
          "output_type": "execute_result"
        }
      ],
      "source": [
        "wv.most_similar(positive=['france', 'berlin'], negative=['paris'], topn=5)"
      ]
    },
    {
      "cell_type": "code",
      "execution_count": null,
      "id": "4b60309d",
      "metadata": {
        "id": "4b60309d",
        "outputId": "1be5c1d4-050c-4794-93de-bb6000e6eb86"
      },
      "outputs": [
        {
          "data": {
            "text/plain": [
              "'cat'"
            ]
          },
          "execution_count": 117,
          "metadata": {},
          "output_type": "execute_result"
        }
      ],
      "source": [
        "wv.doesnt_match([\"facebook\", \"cat\", \"google\", \"microsoft\"])"
      ]
    },
    {
      "cell_type": "code",
      "execution_count": null,
      "id": "a8abe1a2",
      "metadata": {
        "id": "a8abe1a2",
        "outputId": "f3adb6b4-3960-4936-a94d-91a825695671"
      },
      "outputs": [
        {
          "data": {
            "text/plain": [
              "'google'"
            ]
          },
          "execution_count": 118,
          "metadata": {},
          "output_type": "execute_result"
        }
      ],
      "source": [
        "wv.doesnt_match([\"dog\", \"cat\", \"google\", \"mouse\"])"
      ]
    },
    {
      "cell_type": "markdown",
      "id": "51df9555",
      "metadata": {
        "id": "51df9555"
      },
      "source": [
        "<h3>Gensim: Glove</h3>"
      ]
    },
    {
      "cell_type": "markdown",
      "id": "46540508",
      "metadata": {
        "id": "46540508"
      },
      "source": [
        "Stanford's page on GloVe: https://nlp.stanford.edu/projects/glove/"
      ]
    },
    {
      "cell_type": "code",
      "execution_count": null,
      "id": "d31b2bca",
      "metadata": {
        "id": "d31b2bca"
      },
      "outputs": [],
      "source": [
        "glv = api.load(\"glove-twitter-25\")"
      ]
    },
    {
      "cell_type": "code",
      "execution_count": null,
      "id": "cbf5e30d",
      "metadata": {
        "id": "cbf5e30d",
        "outputId": "e20016ae-11bd-4b7a-ead6-dc03b6a1fa8c"
      },
      "outputs": [
        {
          "data": {
            "text/plain": [
              "[('too', 0.9648017287254333),\n",
              " ('day', 0.9533665180206299),\n",
              " ('well', 0.9503170847892761),\n",
              " ('nice', 0.9438973665237427),\n",
              " ('better', 0.9425962567329407),\n",
              " ('fun', 0.9418926239013672),\n",
              " ('much', 0.9413353800773621),\n",
              " ('this', 0.9387555122375488),\n",
              " ('hope', 0.9383506774902344),\n",
              " ('great', 0.9378516674041748)]"
            ]
          },
          "execution_count": 97,
          "metadata": {},
          "output_type": "execute_result"
        }
      ],
      "source": [
        "glv.most_similar(\"good\")"
      ]
    },
    {
      "cell_type": "code",
      "execution_count": null,
      "id": "1b47c704",
      "metadata": {
        "id": "1b47c704",
        "outputId": "9e95600e-9fee-4573-ca84-c70de733c7e4"
      },
      "outputs": [
        {
          "data": {
            "text/plain": [
              "'cereal'"
            ]
          },
          "execution_count": 101,
          "metadata": {},
          "output_type": "execute_result"
        }
      ],
      "source": [
        "glv.doesnt_match(\"breakfast cereal dinner lunch\".split())"
      ]
    },
    {
      "cell_type": "code",
      "execution_count": null,
      "id": "99e10b38",
      "metadata": {
        "id": "99e10b38",
        "outputId": "275604fd-2eee-46bc-f07e-aa7d12af969b"
      },
      "outputs": [
        {
          "data": {
            "text/plain": [
              "'cat'"
            ]
          },
          "execution_count": 108,
          "metadata": {},
          "output_type": "execute_result"
        }
      ],
      "source": [
        "glv.doesnt_match(\"facebook cat google microsoft\".split())"
      ]
    },
    {
      "cell_type": "code",
      "execution_count": null,
      "id": "0ce3f7c1",
      "metadata": {
        "id": "0ce3f7c1",
        "outputId": "4495678b-41b0-4959-d5e9-64ee483b31f6"
      },
      "outputs": [
        {
          "data": {
            "text/plain": [
              "'human'"
            ]
          },
          "execution_count": 111,
          "metadata": {},
          "output_type": "execute_result"
        }
      ],
      "source": [
        "glv.doesnt_match(\"banana grapes orange human\".split())"
      ]
    },
    {
      "cell_type": "code",
      "source": [],
      "metadata": {
        "id": "OCRRFaqavKpT"
      },
      "id": "OCRRFaqavKpT",
      "execution_count": null,
      "outputs": []
    },
    {
      "cell_type": "code",
      "source": [],
      "metadata": {
        "id": "z0xI4QzqvKXh"
      },
      "id": "z0xI4QzqvKXh",
      "execution_count": null,
      "outputs": []
    },
    {
      "cell_type": "markdown",
      "source": [
        "### **Fake new detection using Genism**"
      ],
      "metadata": {
        "id": "_42lnUwBvLbS"
      },
      "id": "_42lnUwBvLbS"
    },
    {
      "cell_type": "code",
      "source": [
        "import pandas as pd\n",
        "import numpy as np"
      ],
      "metadata": {
        "id": "6z5_cV5evRDY"
      },
      "id": "6z5_cV5evRDY",
      "execution_count": 5,
      "outputs": []
    },
    {
      "cell_type": "code",
      "source": [
        "df=pd.read_csv(\"/content/fake_and_real_news.csv\")"
      ],
      "metadata": {
        "id": "_G4k-LIxvT_-"
      },
      "id": "_G4k-LIxvT_-",
      "execution_count": 6,
      "outputs": []
    },
    {
      "cell_type": "code",
      "source": [
        "df.head()"
      ],
      "metadata": {
        "id": "0aYuh3Zkvci1",
        "outputId": "0c155bf9-5aa2-4774-9d21-a993e6fdbedf",
        "colab": {
          "base_uri": "https://localhost:8080/",
          "height": 206
        }
      },
      "id": "0aYuh3Zkvci1",
      "execution_count": 7,
      "outputs": [
        {
          "output_type": "execute_result",
          "data": {
            "text/plain": [
              "                                                Text label\n",
              "0   Top Trump Surrogate BRUTALLY Stabs Him In The...  Fake\n",
              "1  U.S. conservative leader optimistic of common ...  Real\n",
              "2  Trump proposes U.S. tax overhaul, stirs concer...  Real\n",
              "3   Court Forces Ohio To Allow Millions Of Illega...  Fake\n",
              "4  Democrats say Trump agrees to work on immigrat...  Real"
            ],
            "text/html": [
              "\n",
              "  <div id=\"df-9986766d-9691-493c-8d91-f1abd0bcf378\" class=\"colab-df-container\">\n",
              "    <div>\n",
              "<style scoped>\n",
              "    .dataframe tbody tr th:only-of-type {\n",
              "        vertical-align: middle;\n",
              "    }\n",
              "\n",
              "    .dataframe tbody tr th {\n",
              "        vertical-align: top;\n",
              "    }\n",
              "\n",
              "    .dataframe thead th {\n",
              "        text-align: right;\n",
              "    }\n",
              "</style>\n",
              "<table border=\"1\" class=\"dataframe\">\n",
              "  <thead>\n",
              "    <tr style=\"text-align: right;\">\n",
              "      <th></th>\n",
              "      <th>Text</th>\n",
              "      <th>label</th>\n",
              "    </tr>\n",
              "  </thead>\n",
              "  <tbody>\n",
              "    <tr>\n",
              "      <th>0</th>\n",
              "      <td>Top Trump Surrogate BRUTALLY Stabs Him In The...</td>\n",
              "      <td>Fake</td>\n",
              "    </tr>\n",
              "    <tr>\n",
              "      <th>1</th>\n",
              "      <td>U.S. conservative leader optimistic of common ...</td>\n",
              "      <td>Real</td>\n",
              "    </tr>\n",
              "    <tr>\n",
              "      <th>2</th>\n",
              "      <td>Trump proposes U.S. tax overhaul, stirs concer...</td>\n",
              "      <td>Real</td>\n",
              "    </tr>\n",
              "    <tr>\n",
              "      <th>3</th>\n",
              "      <td>Court Forces Ohio To Allow Millions Of Illega...</td>\n",
              "      <td>Fake</td>\n",
              "    </tr>\n",
              "    <tr>\n",
              "      <th>4</th>\n",
              "      <td>Democrats say Trump agrees to work on immigrat...</td>\n",
              "      <td>Real</td>\n",
              "    </tr>\n",
              "  </tbody>\n",
              "</table>\n",
              "</div>\n",
              "    <div class=\"colab-df-buttons\">\n",
              "\n",
              "  <div class=\"colab-df-container\">\n",
              "    <button class=\"colab-df-convert\" onclick=\"convertToInteractive('df-9986766d-9691-493c-8d91-f1abd0bcf378')\"\n",
              "            title=\"Convert this dataframe to an interactive table.\"\n",
              "            style=\"display:none;\">\n",
              "\n",
              "  <svg xmlns=\"http://www.w3.org/2000/svg\" height=\"24px\" viewBox=\"0 -960 960 960\">\n",
              "    <path d=\"M120-120v-720h720v720H120Zm60-500h600v-160H180v160Zm220 220h160v-160H400v160Zm0 220h160v-160H400v160ZM180-400h160v-160H180v160Zm440 0h160v-160H620v160ZM180-180h160v-160H180v160Zm440 0h160v-160H620v160Z\"/>\n",
              "  </svg>\n",
              "    </button>\n",
              "\n",
              "  <style>\n",
              "    .colab-df-container {\n",
              "      display:flex;\n",
              "      gap: 12px;\n",
              "    }\n",
              "\n",
              "    .colab-df-convert {\n",
              "      background-color: #E8F0FE;\n",
              "      border: none;\n",
              "      border-radius: 50%;\n",
              "      cursor: pointer;\n",
              "      display: none;\n",
              "      fill: #1967D2;\n",
              "      height: 32px;\n",
              "      padding: 0 0 0 0;\n",
              "      width: 32px;\n",
              "    }\n",
              "\n",
              "    .colab-df-convert:hover {\n",
              "      background-color: #E2EBFA;\n",
              "      box-shadow: 0px 1px 2px rgba(60, 64, 67, 0.3), 0px 1px 3px 1px rgba(60, 64, 67, 0.15);\n",
              "      fill: #174EA6;\n",
              "    }\n",
              "\n",
              "    .colab-df-buttons div {\n",
              "      margin-bottom: 4px;\n",
              "    }\n",
              "\n",
              "    [theme=dark] .colab-df-convert {\n",
              "      background-color: #3B4455;\n",
              "      fill: #D2E3FC;\n",
              "    }\n",
              "\n",
              "    [theme=dark] .colab-df-convert:hover {\n",
              "      background-color: #434B5C;\n",
              "      box-shadow: 0px 1px 3px 1px rgba(0, 0, 0, 0.15);\n",
              "      filter: drop-shadow(0px 1px 2px rgba(0, 0, 0, 0.3));\n",
              "      fill: #FFFFFF;\n",
              "    }\n",
              "  </style>\n",
              "\n",
              "    <script>\n",
              "      const buttonEl =\n",
              "        document.querySelector('#df-9986766d-9691-493c-8d91-f1abd0bcf378 button.colab-df-convert');\n",
              "      buttonEl.style.display =\n",
              "        google.colab.kernel.accessAllowed ? 'block' : 'none';\n",
              "\n",
              "      async function convertToInteractive(key) {\n",
              "        const element = document.querySelector('#df-9986766d-9691-493c-8d91-f1abd0bcf378');\n",
              "        const dataTable =\n",
              "          await google.colab.kernel.invokeFunction('convertToInteractive',\n",
              "                                                    [key], {});\n",
              "        if (!dataTable) return;\n",
              "\n",
              "        const docLinkHtml = 'Like what you see? Visit the ' +\n",
              "          '<a target=\"_blank\" href=https://colab.research.google.com/notebooks/data_table.ipynb>data table notebook</a>'\n",
              "          + ' to learn more about interactive tables.';\n",
              "        element.innerHTML = '';\n",
              "        dataTable['output_type'] = 'display_data';\n",
              "        await google.colab.output.renderOutput(dataTable, element);\n",
              "        const docLink = document.createElement('div');\n",
              "        docLink.innerHTML = docLinkHtml;\n",
              "        element.appendChild(docLink);\n",
              "      }\n",
              "    </script>\n",
              "  </div>\n",
              "\n",
              "\n",
              "    <div id=\"df-f6d0eb40-8957-4d2f-80ed-9dda33fe3945\">\n",
              "      <button class=\"colab-df-quickchart\" onclick=\"quickchart('df-f6d0eb40-8957-4d2f-80ed-9dda33fe3945')\"\n",
              "                title=\"Suggest charts\"\n",
              "                style=\"display:none;\">\n",
              "\n",
              "<svg xmlns=\"http://www.w3.org/2000/svg\" height=\"24px\"viewBox=\"0 0 24 24\"\n",
              "     width=\"24px\">\n",
              "    <g>\n",
              "        <path d=\"M19 3H5c-1.1 0-2 .9-2 2v14c0 1.1.9 2 2 2h14c1.1 0 2-.9 2-2V5c0-1.1-.9-2-2-2zM9 17H7v-7h2v7zm4 0h-2V7h2v10zm4 0h-2v-4h2v4z\"/>\n",
              "    </g>\n",
              "</svg>\n",
              "      </button>\n",
              "\n",
              "<style>\n",
              "  .colab-df-quickchart {\n",
              "      --bg-color: #E8F0FE;\n",
              "      --fill-color: #1967D2;\n",
              "      --hover-bg-color: #E2EBFA;\n",
              "      --hover-fill-color: #174EA6;\n",
              "      --disabled-fill-color: #AAA;\n",
              "      --disabled-bg-color: #DDD;\n",
              "  }\n",
              "\n",
              "  [theme=dark] .colab-df-quickchart {\n",
              "      --bg-color: #3B4455;\n",
              "      --fill-color: #D2E3FC;\n",
              "      --hover-bg-color: #434B5C;\n",
              "      --hover-fill-color: #FFFFFF;\n",
              "      --disabled-bg-color: #3B4455;\n",
              "      --disabled-fill-color: #666;\n",
              "  }\n",
              "\n",
              "  .colab-df-quickchart {\n",
              "    background-color: var(--bg-color);\n",
              "    border: none;\n",
              "    border-radius: 50%;\n",
              "    cursor: pointer;\n",
              "    display: none;\n",
              "    fill: var(--fill-color);\n",
              "    height: 32px;\n",
              "    padding: 0;\n",
              "    width: 32px;\n",
              "  }\n",
              "\n",
              "  .colab-df-quickchart:hover {\n",
              "    background-color: var(--hover-bg-color);\n",
              "    box-shadow: 0 1px 2px rgba(60, 64, 67, 0.3), 0 1px 3px 1px rgba(60, 64, 67, 0.15);\n",
              "    fill: var(--button-hover-fill-color);\n",
              "  }\n",
              "\n",
              "  .colab-df-quickchart-complete:disabled,\n",
              "  .colab-df-quickchart-complete:disabled:hover {\n",
              "    background-color: var(--disabled-bg-color);\n",
              "    fill: var(--disabled-fill-color);\n",
              "    box-shadow: none;\n",
              "  }\n",
              "\n",
              "  .colab-df-spinner {\n",
              "    border: 2px solid var(--fill-color);\n",
              "    border-color: transparent;\n",
              "    border-bottom-color: var(--fill-color);\n",
              "    animation:\n",
              "      spin 1s steps(1) infinite;\n",
              "  }\n",
              "\n",
              "  @keyframes spin {\n",
              "    0% {\n",
              "      border-color: transparent;\n",
              "      border-bottom-color: var(--fill-color);\n",
              "      border-left-color: var(--fill-color);\n",
              "    }\n",
              "    20% {\n",
              "      border-color: transparent;\n",
              "      border-left-color: var(--fill-color);\n",
              "      border-top-color: var(--fill-color);\n",
              "    }\n",
              "    30% {\n",
              "      border-color: transparent;\n",
              "      border-left-color: var(--fill-color);\n",
              "      border-top-color: var(--fill-color);\n",
              "      border-right-color: var(--fill-color);\n",
              "    }\n",
              "    40% {\n",
              "      border-color: transparent;\n",
              "      border-right-color: var(--fill-color);\n",
              "      border-top-color: var(--fill-color);\n",
              "    }\n",
              "    60% {\n",
              "      border-color: transparent;\n",
              "      border-right-color: var(--fill-color);\n",
              "    }\n",
              "    80% {\n",
              "      border-color: transparent;\n",
              "      border-right-color: var(--fill-color);\n",
              "      border-bottom-color: var(--fill-color);\n",
              "    }\n",
              "    90% {\n",
              "      border-color: transparent;\n",
              "      border-bottom-color: var(--fill-color);\n",
              "    }\n",
              "  }\n",
              "</style>\n",
              "\n",
              "      <script>\n",
              "        async function quickchart(key) {\n",
              "          const quickchartButtonEl =\n",
              "            document.querySelector('#' + key + ' button');\n",
              "          quickchartButtonEl.disabled = true;  // To prevent multiple clicks.\n",
              "          quickchartButtonEl.classList.add('colab-df-spinner');\n",
              "          try {\n",
              "            const charts = await google.colab.kernel.invokeFunction(\n",
              "                'suggestCharts', [key], {});\n",
              "          } catch (error) {\n",
              "            console.error('Error during call to suggestCharts:', error);\n",
              "          }\n",
              "          quickchartButtonEl.classList.remove('colab-df-spinner');\n",
              "          quickchartButtonEl.classList.add('colab-df-quickchart-complete');\n",
              "        }\n",
              "        (() => {\n",
              "          let quickchartButtonEl =\n",
              "            document.querySelector('#df-f6d0eb40-8957-4d2f-80ed-9dda33fe3945 button');\n",
              "          quickchartButtonEl.style.display =\n",
              "            google.colab.kernel.accessAllowed ? 'block' : 'none';\n",
              "        })();\n",
              "      </script>\n",
              "    </div>\n",
              "\n",
              "    </div>\n",
              "  </div>\n"
            ],
            "application/vnd.google.colaboratory.intrinsic+json": {
              "type": "dataframe",
              "variable_name": "df",
              "summary": "{\n  \"name\": \"df\",\n  \"rows\": 9900,\n  \"fields\": [\n    {\n      \"column\": \"Text\",\n      \"properties\": {\n        \"dtype\": \"string\",\n        \"num_unique_values\": 9865,\n        \"samples\": [\n          \" ICYMI: SNL Skewers \\u201cMorning Joe\\u201d And It Is Hilarious This week s cold open for Saturday Night Live featured a parody of the morning show, Morning Joe. The sketch featured Alex Moffat as host Joe Scarborough and Kate McKinnon as Mika Mika Brzezinski. The sketch also has Alec Baldwin as President Donald Trump, who calls into the show as  John Miller,  a spokesperson for the White House. Back in the day, Trump was known for calling reporters all over the New York area pretending to be his own publicist. He would call, not to tout his business successes but to brag about his sex life.The sketch also made fun of the relationship between the hosts. The pair got engaged recently when they were celebrating Mika s 50th birthday. The sketch shows the response from the other panelists on the show, Mark Halperin, Willie Geist and Mike Barnacle, who all have no idea how to respond to Joe and Mika s behavior on the set.Featured image via Frederick M. Brown/Getty Images.\",\n          \" BOMBSHELL: Information Suggests Trump Associates DID Collude With Russia, According To Officials Wednesday was not a good day to be Donald Trump. In the aftermath of the disastrous Comey hearing where it was confirmed that The Donald s team was indeed being investigated   and of Rep. Nunes  decision to skip informing his fellow congressional Russia investigators of perfectly legal  incidental collection  of information about Trump associates and possibly the President* himself and run to The Donald with it instead   Trump has been flailing, attempting to distract from the whole Russia thing as much as possible.That s going to be very hard now, as U.S. officials have now confirmed that the facts suggest that members of his team were indeed working with the enemy. CNN reports:The FBI has information that indicates associates of President Donald Trump communicated with suspected Russian operatives to possibly coordinate the release of information damaging to Hillary Clinton s campaign, US officials told CNN.\",\n          \" Vladimir Putin Just Defended Trump In The WORST Way Possible (VIDEO) According to Russian dictator Vladimir Putin, it s silly to worry about little things like whether or not a couple of Russian ladies peed on Donald Trump s bed because it s much, much worse to publish memos that reveal these allegations.Putin says that there is a conspiracy to  delegitimize  the man and his team of hackers, fake news writers, and trolls he worked hard to install in the Oval Office by hacking Trump s political opponents and running an aggressive propaganda campaign. I don t know Mr. Trump, I have never met him, I don t know what he will do in the international arena, so I have no reason either to attack him, criticize him or defend him, Putin said at a press conference. Donald Trump has been with the most beautiful women in the world, so why would he need prostitutes in Moscow? To answer that question, we need only look to a 2001 edition of the Howard Stern Show in which Trump was reminded that he bragged that he likes to go to Russia to have sex with women because they  have no morals. Putin says that Russian security services  do not chase every US billionaire,  and that the release of the documents was worse than prostitutes. In a way, he s right, as the documents presented to both Trump and President Obama also allege that members of the President-elect s campaign staff directly worked with the Russian government during the campaign.On numerous occasions, Trump has repeated Russian propaganda while attacking U.S. intelligence agencies that have been exposing him for what he is and, of course, has directly quoted Putin (a man whom Trump says is  very smart ) while hurling barbs at Hillary Clinton.Trump and Putin have been screaming about the  fake news  release of actual documents that actual intelligence agencies are in possession of, but the BBC reported recently that the whole pissing Russian ladies thing is just the tip of the iceberg. Correspondent Paul Wood revealed last week that at least four sources have confirmed the information, with one U.S. intelligence source informing him that there is audio and video of The Donald s escapades, and an Israeli news source reports that the country s spies have been warned against sharing information with the United States for fear that Trump will relay it to Putin.Putin and Trump s bromance is disconcerting at best   especially when more than a baker s dozen intelligence agencies have confirmed that the man who stood up to join Trump in his attacks on our intelligence agencies has been confirmed to have interfered in our election.Watch it below:Featured image via Getty Images\"\n        ],\n        \"semantic_type\": \"\",\n        \"description\": \"\"\n      }\n    },\n    {\n      \"column\": \"label\",\n      \"properties\": {\n        \"dtype\": \"category\",\n        \"num_unique_values\": 2,\n        \"samples\": [\n          \"Real\",\n          \"Fake\"\n        ],\n        \"semantic_type\": \"\",\n        \"description\": \"\"\n      }\n    }\n  ]\n}"
            }
          },
          "metadata": {},
          "execution_count": 7
        }
      ]
    },
    {
      "cell_type": "code",
      "source": [
        "wv.similarity('good','great')"
      ],
      "metadata": {
        "id": "Wmy5ODIVveUh",
        "outputId": "6f762498-4d31-4360-a4ed-4591caf7e260",
        "colab": {
          "base_uri": "https://localhost:8080/"
        }
      },
      "id": "Wmy5ODIVveUh",
      "execution_count": 10,
      "outputs": [
        {
          "output_type": "execute_result",
          "data": {
            "text/plain": [
              "0.7006069"
            ]
          },
          "metadata": {},
          "execution_count": 10
        }
      ]
    },
    {
      "cell_type": "code",
      "source": [
        "wv.most_similar('great')"
      ],
      "metadata": {
        "id": "W4siET33v8eL",
        "outputId": "fdea48c3-aee3-40ae-ea80-5242f05bf68f",
        "colab": {
          "base_uri": "https://localhost:8080/"
        }
      },
      "id": "W4siET33v8eL",
      "execution_count": 11,
      "outputs": [
        {
          "output_type": "execute_result",
          "data": {
            "text/plain": [
              "[('greatest', 0.7079940438270569),\n",
              " ('good', 0.7006068825721741),\n",
              " ('well', 0.687130331993103),\n",
              " ('brought', 0.6693516969680786),\n",
              " ('much', 0.6664959192276001),\n",
              " ('tremendous', 0.6647360324859619),\n",
              " ('lot', 0.6575665473937988),\n",
              " ('especially', 0.6524294018745422),\n",
              " ('important', 0.647465169429779),\n",
              " ('always', 0.646425187587738)]"
            ]
          },
          "metadata": {},
          "execution_count": 11
        }
      ]
    },
    {
      "cell_type": "code",
      "source": [
        "wv_great = wv[\"great\"]\n",
        "wv_good = wv[\"good\"]"
      ],
      "metadata": {
        "id": "nNEfZVc6wBV5"
      },
      "id": "nNEfZVc6wBV5",
      "execution_count": 12,
      "outputs": []
    },
    {
      "cell_type": "code",
      "source": [
        "wv_great.shape"
      ],
      "metadata": {
        "id": "G1Rdk8eLwThQ",
        "outputId": "2873e2aa-449a-4907-8ccf-535047dff2dc",
        "colab": {
          "base_uri": "https://localhost:8080/"
        }
      },
      "id": "G1Rdk8eLwThQ",
      "execution_count": 13,
      "outputs": [
        {
          "output_type": "execute_result",
          "data": {
            "text/plain": [
              "(200,)"
            ]
          },
          "metadata": {},
          "execution_count": 13
        }
      ]
    },
    {
      "cell_type": "code",
      "source": [
        "df.head()"
      ],
      "metadata": {
        "id": "Mo0f_8anwVmy",
        "outputId": "91cd76d5-b259-40ce-81d0-d357cbaf8964",
        "colab": {
          "base_uri": "https://localhost:8080/",
          "height": 206
        }
      },
      "id": "Mo0f_8anwVmy",
      "execution_count": 14,
      "outputs": [
        {
          "output_type": "execute_result",
          "data": {
            "text/plain": [
              "                                                Text label\n",
              "0   Top Trump Surrogate BRUTALLY Stabs Him In The...  Fake\n",
              "1  U.S. conservative leader optimistic of common ...  Real\n",
              "2  Trump proposes U.S. tax overhaul, stirs concer...  Real\n",
              "3   Court Forces Ohio To Allow Millions Of Illega...  Fake\n",
              "4  Democrats say Trump agrees to work on immigrat...  Real"
            ],
            "text/html": [
              "\n",
              "  <div id=\"df-957b1a5a-6865-484d-a0a8-021cda857d3c\" class=\"colab-df-container\">\n",
              "    <div>\n",
              "<style scoped>\n",
              "    .dataframe tbody tr th:only-of-type {\n",
              "        vertical-align: middle;\n",
              "    }\n",
              "\n",
              "    .dataframe tbody tr th {\n",
              "        vertical-align: top;\n",
              "    }\n",
              "\n",
              "    .dataframe thead th {\n",
              "        text-align: right;\n",
              "    }\n",
              "</style>\n",
              "<table border=\"1\" class=\"dataframe\">\n",
              "  <thead>\n",
              "    <tr style=\"text-align: right;\">\n",
              "      <th></th>\n",
              "      <th>Text</th>\n",
              "      <th>label</th>\n",
              "    </tr>\n",
              "  </thead>\n",
              "  <tbody>\n",
              "    <tr>\n",
              "      <th>0</th>\n",
              "      <td>Top Trump Surrogate BRUTALLY Stabs Him In The...</td>\n",
              "      <td>Fake</td>\n",
              "    </tr>\n",
              "    <tr>\n",
              "      <th>1</th>\n",
              "      <td>U.S. conservative leader optimistic of common ...</td>\n",
              "      <td>Real</td>\n",
              "    </tr>\n",
              "    <tr>\n",
              "      <th>2</th>\n",
              "      <td>Trump proposes U.S. tax overhaul, stirs concer...</td>\n",
              "      <td>Real</td>\n",
              "    </tr>\n",
              "    <tr>\n",
              "      <th>3</th>\n",
              "      <td>Court Forces Ohio To Allow Millions Of Illega...</td>\n",
              "      <td>Fake</td>\n",
              "    </tr>\n",
              "    <tr>\n",
              "      <th>4</th>\n",
              "      <td>Democrats say Trump agrees to work on immigrat...</td>\n",
              "      <td>Real</td>\n",
              "    </tr>\n",
              "  </tbody>\n",
              "</table>\n",
              "</div>\n",
              "    <div class=\"colab-df-buttons\">\n",
              "\n",
              "  <div class=\"colab-df-container\">\n",
              "    <button class=\"colab-df-convert\" onclick=\"convertToInteractive('df-957b1a5a-6865-484d-a0a8-021cda857d3c')\"\n",
              "            title=\"Convert this dataframe to an interactive table.\"\n",
              "            style=\"display:none;\">\n",
              "\n",
              "  <svg xmlns=\"http://www.w3.org/2000/svg\" height=\"24px\" viewBox=\"0 -960 960 960\">\n",
              "    <path d=\"M120-120v-720h720v720H120Zm60-500h600v-160H180v160Zm220 220h160v-160H400v160Zm0 220h160v-160H400v160ZM180-400h160v-160H180v160Zm440 0h160v-160H620v160ZM180-180h160v-160H180v160Zm440 0h160v-160H620v160Z\"/>\n",
              "  </svg>\n",
              "    </button>\n",
              "\n",
              "  <style>\n",
              "    .colab-df-container {\n",
              "      display:flex;\n",
              "      gap: 12px;\n",
              "    }\n",
              "\n",
              "    .colab-df-convert {\n",
              "      background-color: #E8F0FE;\n",
              "      border: none;\n",
              "      border-radius: 50%;\n",
              "      cursor: pointer;\n",
              "      display: none;\n",
              "      fill: #1967D2;\n",
              "      height: 32px;\n",
              "      padding: 0 0 0 0;\n",
              "      width: 32px;\n",
              "    }\n",
              "\n",
              "    .colab-df-convert:hover {\n",
              "      background-color: #E2EBFA;\n",
              "      box-shadow: 0px 1px 2px rgba(60, 64, 67, 0.3), 0px 1px 3px 1px rgba(60, 64, 67, 0.15);\n",
              "      fill: #174EA6;\n",
              "    }\n",
              "\n",
              "    .colab-df-buttons div {\n",
              "      margin-bottom: 4px;\n",
              "    }\n",
              "\n",
              "    [theme=dark] .colab-df-convert {\n",
              "      background-color: #3B4455;\n",
              "      fill: #D2E3FC;\n",
              "    }\n",
              "\n",
              "    [theme=dark] .colab-df-convert:hover {\n",
              "      background-color: #434B5C;\n",
              "      box-shadow: 0px 1px 3px 1px rgba(0, 0, 0, 0.15);\n",
              "      filter: drop-shadow(0px 1px 2px rgba(0, 0, 0, 0.3));\n",
              "      fill: #FFFFFF;\n",
              "    }\n",
              "  </style>\n",
              "\n",
              "    <script>\n",
              "      const buttonEl =\n",
              "        document.querySelector('#df-957b1a5a-6865-484d-a0a8-021cda857d3c button.colab-df-convert');\n",
              "      buttonEl.style.display =\n",
              "        google.colab.kernel.accessAllowed ? 'block' : 'none';\n",
              "\n",
              "      async function convertToInteractive(key) {\n",
              "        const element = document.querySelector('#df-957b1a5a-6865-484d-a0a8-021cda857d3c');\n",
              "        const dataTable =\n",
              "          await google.colab.kernel.invokeFunction('convertToInteractive',\n",
              "                                                    [key], {});\n",
              "        if (!dataTable) return;\n",
              "\n",
              "        const docLinkHtml = 'Like what you see? Visit the ' +\n",
              "          '<a target=\"_blank\" href=https://colab.research.google.com/notebooks/data_table.ipynb>data table notebook</a>'\n",
              "          + ' to learn more about interactive tables.';\n",
              "        element.innerHTML = '';\n",
              "        dataTable['output_type'] = 'display_data';\n",
              "        await google.colab.output.renderOutput(dataTable, element);\n",
              "        const docLink = document.createElement('div');\n",
              "        docLink.innerHTML = docLinkHtml;\n",
              "        element.appendChild(docLink);\n",
              "      }\n",
              "    </script>\n",
              "  </div>\n",
              "\n",
              "\n",
              "    <div id=\"df-28632229-c33d-4620-a252-3968ce31515c\">\n",
              "      <button class=\"colab-df-quickchart\" onclick=\"quickchart('df-28632229-c33d-4620-a252-3968ce31515c')\"\n",
              "                title=\"Suggest charts\"\n",
              "                style=\"display:none;\">\n",
              "\n",
              "<svg xmlns=\"http://www.w3.org/2000/svg\" height=\"24px\"viewBox=\"0 0 24 24\"\n",
              "     width=\"24px\">\n",
              "    <g>\n",
              "        <path d=\"M19 3H5c-1.1 0-2 .9-2 2v14c0 1.1.9 2 2 2h14c1.1 0 2-.9 2-2V5c0-1.1-.9-2-2-2zM9 17H7v-7h2v7zm4 0h-2V7h2v10zm4 0h-2v-4h2v4z\"/>\n",
              "    </g>\n",
              "</svg>\n",
              "      </button>\n",
              "\n",
              "<style>\n",
              "  .colab-df-quickchart {\n",
              "      --bg-color: #E8F0FE;\n",
              "      --fill-color: #1967D2;\n",
              "      --hover-bg-color: #E2EBFA;\n",
              "      --hover-fill-color: #174EA6;\n",
              "      --disabled-fill-color: #AAA;\n",
              "      --disabled-bg-color: #DDD;\n",
              "  }\n",
              "\n",
              "  [theme=dark] .colab-df-quickchart {\n",
              "      --bg-color: #3B4455;\n",
              "      --fill-color: #D2E3FC;\n",
              "      --hover-bg-color: #434B5C;\n",
              "      --hover-fill-color: #FFFFFF;\n",
              "      --disabled-bg-color: #3B4455;\n",
              "      --disabled-fill-color: #666;\n",
              "  }\n",
              "\n",
              "  .colab-df-quickchart {\n",
              "    background-color: var(--bg-color);\n",
              "    border: none;\n",
              "    border-radius: 50%;\n",
              "    cursor: pointer;\n",
              "    display: none;\n",
              "    fill: var(--fill-color);\n",
              "    height: 32px;\n",
              "    padding: 0;\n",
              "    width: 32px;\n",
              "  }\n",
              "\n",
              "  .colab-df-quickchart:hover {\n",
              "    background-color: var(--hover-bg-color);\n",
              "    box-shadow: 0 1px 2px rgba(60, 64, 67, 0.3), 0 1px 3px 1px rgba(60, 64, 67, 0.15);\n",
              "    fill: var(--button-hover-fill-color);\n",
              "  }\n",
              "\n",
              "  .colab-df-quickchart-complete:disabled,\n",
              "  .colab-df-quickchart-complete:disabled:hover {\n",
              "    background-color: var(--disabled-bg-color);\n",
              "    fill: var(--disabled-fill-color);\n",
              "    box-shadow: none;\n",
              "  }\n",
              "\n",
              "  .colab-df-spinner {\n",
              "    border: 2px solid var(--fill-color);\n",
              "    border-color: transparent;\n",
              "    border-bottom-color: var(--fill-color);\n",
              "    animation:\n",
              "      spin 1s steps(1) infinite;\n",
              "  }\n",
              "\n",
              "  @keyframes spin {\n",
              "    0% {\n",
              "      border-color: transparent;\n",
              "      border-bottom-color: var(--fill-color);\n",
              "      border-left-color: var(--fill-color);\n",
              "    }\n",
              "    20% {\n",
              "      border-color: transparent;\n",
              "      border-left-color: var(--fill-color);\n",
              "      border-top-color: var(--fill-color);\n",
              "    }\n",
              "    30% {\n",
              "      border-color: transparent;\n",
              "      border-left-color: var(--fill-color);\n",
              "      border-top-color: var(--fill-color);\n",
              "      border-right-color: var(--fill-color);\n",
              "    }\n",
              "    40% {\n",
              "      border-color: transparent;\n",
              "      border-right-color: var(--fill-color);\n",
              "      border-top-color: var(--fill-color);\n",
              "    }\n",
              "    60% {\n",
              "      border-color: transparent;\n",
              "      border-right-color: var(--fill-color);\n",
              "    }\n",
              "    80% {\n",
              "      border-color: transparent;\n",
              "      border-right-color: var(--fill-color);\n",
              "      border-bottom-color: var(--fill-color);\n",
              "    }\n",
              "    90% {\n",
              "      border-color: transparent;\n",
              "      border-bottom-color: var(--fill-color);\n",
              "    }\n",
              "  }\n",
              "</style>\n",
              "\n",
              "      <script>\n",
              "        async function quickchart(key) {\n",
              "          const quickchartButtonEl =\n",
              "            document.querySelector('#' + key + ' button');\n",
              "          quickchartButtonEl.disabled = true;  // To prevent multiple clicks.\n",
              "          quickchartButtonEl.classList.add('colab-df-spinner');\n",
              "          try {\n",
              "            const charts = await google.colab.kernel.invokeFunction(\n",
              "                'suggestCharts', [key], {});\n",
              "          } catch (error) {\n",
              "            console.error('Error during call to suggestCharts:', error);\n",
              "          }\n",
              "          quickchartButtonEl.classList.remove('colab-df-spinner');\n",
              "          quickchartButtonEl.classList.add('colab-df-quickchart-complete');\n",
              "        }\n",
              "        (() => {\n",
              "          let quickchartButtonEl =\n",
              "            document.querySelector('#df-28632229-c33d-4620-a252-3968ce31515c button');\n",
              "          quickchartButtonEl.style.display =\n",
              "            google.colab.kernel.accessAllowed ? 'block' : 'none';\n",
              "        })();\n",
              "      </script>\n",
              "    </div>\n",
              "\n",
              "    </div>\n",
              "  </div>\n"
            ],
            "application/vnd.google.colaboratory.intrinsic+json": {
              "type": "dataframe",
              "variable_name": "df",
              "summary": "{\n  \"name\": \"df\",\n  \"rows\": 9900,\n  \"fields\": [\n    {\n      \"column\": \"Text\",\n      \"properties\": {\n        \"dtype\": \"string\",\n        \"num_unique_values\": 9865,\n        \"samples\": [\n          \" ICYMI: SNL Skewers \\u201cMorning Joe\\u201d And It Is Hilarious This week s cold open for Saturday Night Live featured a parody of the morning show, Morning Joe. The sketch featured Alex Moffat as host Joe Scarborough and Kate McKinnon as Mika Mika Brzezinski. The sketch also has Alec Baldwin as President Donald Trump, who calls into the show as  John Miller,  a spokesperson for the White House. Back in the day, Trump was known for calling reporters all over the New York area pretending to be his own publicist. He would call, not to tout his business successes but to brag about his sex life.The sketch also made fun of the relationship between the hosts. The pair got engaged recently when they were celebrating Mika s 50th birthday. The sketch shows the response from the other panelists on the show, Mark Halperin, Willie Geist and Mike Barnacle, who all have no idea how to respond to Joe and Mika s behavior on the set.Featured image via Frederick M. Brown/Getty Images.\",\n          \" BOMBSHELL: Information Suggests Trump Associates DID Collude With Russia, According To Officials Wednesday was not a good day to be Donald Trump. In the aftermath of the disastrous Comey hearing where it was confirmed that The Donald s team was indeed being investigated   and of Rep. Nunes  decision to skip informing his fellow congressional Russia investigators of perfectly legal  incidental collection  of information about Trump associates and possibly the President* himself and run to The Donald with it instead   Trump has been flailing, attempting to distract from the whole Russia thing as much as possible.That s going to be very hard now, as U.S. officials have now confirmed that the facts suggest that members of his team were indeed working with the enemy. CNN reports:The FBI has information that indicates associates of President Donald Trump communicated with suspected Russian operatives to possibly coordinate the release of information damaging to Hillary Clinton s campaign, US officials told CNN.\",\n          \" Vladimir Putin Just Defended Trump In The WORST Way Possible (VIDEO) According to Russian dictator Vladimir Putin, it s silly to worry about little things like whether or not a couple of Russian ladies peed on Donald Trump s bed because it s much, much worse to publish memos that reveal these allegations.Putin says that there is a conspiracy to  delegitimize  the man and his team of hackers, fake news writers, and trolls he worked hard to install in the Oval Office by hacking Trump s political opponents and running an aggressive propaganda campaign. I don t know Mr. Trump, I have never met him, I don t know what he will do in the international arena, so I have no reason either to attack him, criticize him or defend him, Putin said at a press conference. Donald Trump has been with the most beautiful women in the world, so why would he need prostitutes in Moscow? To answer that question, we need only look to a 2001 edition of the Howard Stern Show in which Trump was reminded that he bragged that he likes to go to Russia to have sex with women because they  have no morals. Putin says that Russian security services  do not chase every US billionaire,  and that the release of the documents was worse than prostitutes. In a way, he s right, as the documents presented to both Trump and President Obama also allege that members of the President-elect s campaign staff directly worked with the Russian government during the campaign.On numerous occasions, Trump has repeated Russian propaganda while attacking U.S. intelligence agencies that have been exposing him for what he is and, of course, has directly quoted Putin (a man whom Trump says is  very smart ) while hurling barbs at Hillary Clinton.Trump and Putin have been screaming about the  fake news  release of actual documents that actual intelligence agencies are in possession of, but the BBC reported recently that the whole pissing Russian ladies thing is just the tip of the iceberg. Correspondent Paul Wood revealed last week that at least four sources have confirmed the information, with one U.S. intelligence source informing him that there is audio and video of The Donald s escapades, and an Israeli news source reports that the country s spies have been warned against sharing information with the United States for fear that Trump will relay it to Putin.Putin and Trump s bromance is disconcerting at best   especially when more than a baker s dozen intelligence agencies have confirmed that the man who stood up to join Trump in his attacks on our intelligence agencies has been confirmed to have interfered in our election.Watch it below:Featured image via Getty Images\"\n        ],\n        \"semantic_type\": \"\",\n        \"description\": \"\"\n      }\n    },\n    {\n      \"column\": \"label\",\n      \"properties\": {\n        \"dtype\": \"category\",\n        \"num_unique_values\": 2,\n        \"samples\": [\n          \"Real\",\n          \"Fake\"\n        ],\n        \"semantic_type\": \"\",\n        \"description\": \"\"\n      }\n    }\n  ]\n}"
            }
          },
          "metadata": {},
          "execution_count": 14
        }
      ]
    },
    {
      "cell_type": "code",
      "source": [
        "df['label1']=df['label'].map({'Fake':0,'Real':1})"
      ],
      "metadata": {
        "id": "BtSz-o4xwfH9"
      },
      "id": "BtSz-o4xwfH9",
      "execution_count": 15,
      "outputs": []
    },
    {
      "cell_type": "code",
      "source": [
        "df.head()"
      ],
      "metadata": {
        "id": "wcqxE9I8wmXm",
        "outputId": "b6bc2727-5cbd-4144-bc7d-020e505be58a",
        "colab": {
          "base_uri": "https://localhost:8080/",
          "height": 206
        }
      },
      "id": "wcqxE9I8wmXm",
      "execution_count": 16,
      "outputs": [
        {
          "output_type": "execute_result",
          "data": {
            "text/plain": [
              "                                                Text label  label1\n",
              "0   Top Trump Surrogate BRUTALLY Stabs Him In The...  Fake       0\n",
              "1  U.S. conservative leader optimistic of common ...  Real       1\n",
              "2  Trump proposes U.S. tax overhaul, stirs concer...  Real       1\n",
              "3   Court Forces Ohio To Allow Millions Of Illega...  Fake       0\n",
              "4  Democrats say Trump agrees to work on immigrat...  Real       1"
            ],
            "text/html": [
              "\n",
              "  <div id=\"df-0fbaf12b-acdb-4c1d-af3f-52df4182ed2a\" class=\"colab-df-container\">\n",
              "    <div>\n",
              "<style scoped>\n",
              "    .dataframe tbody tr th:only-of-type {\n",
              "        vertical-align: middle;\n",
              "    }\n",
              "\n",
              "    .dataframe tbody tr th {\n",
              "        vertical-align: top;\n",
              "    }\n",
              "\n",
              "    .dataframe thead th {\n",
              "        text-align: right;\n",
              "    }\n",
              "</style>\n",
              "<table border=\"1\" class=\"dataframe\">\n",
              "  <thead>\n",
              "    <tr style=\"text-align: right;\">\n",
              "      <th></th>\n",
              "      <th>Text</th>\n",
              "      <th>label</th>\n",
              "      <th>label1</th>\n",
              "    </tr>\n",
              "  </thead>\n",
              "  <tbody>\n",
              "    <tr>\n",
              "      <th>0</th>\n",
              "      <td>Top Trump Surrogate BRUTALLY Stabs Him In The...</td>\n",
              "      <td>Fake</td>\n",
              "      <td>0</td>\n",
              "    </tr>\n",
              "    <tr>\n",
              "      <th>1</th>\n",
              "      <td>U.S. conservative leader optimistic of common ...</td>\n",
              "      <td>Real</td>\n",
              "      <td>1</td>\n",
              "    </tr>\n",
              "    <tr>\n",
              "      <th>2</th>\n",
              "      <td>Trump proposes U.S. tax overhaul, stirs concer...</td>\n",
              "      <td>Real</td>\n",
              "      <td>1</td>\n",
              "    </tr>\n",
              "    <tr>\n",
              "      <th>3</th>\n",
              "      <td>Court Forces Ohio To Allow Millions Of Illega...</td>\n",
              "      <td>Fake</td>\n",
              "      <td>0</td>\n",
              "    </tr>\n",
              "    <tr>\n",
              "      <th>4</th>\n",
              "      <td>Democrats say Trump agrees to work on immigrat...</td>\n",
              "      <td>Real</td>\n",
              "      <td>1</td>\n",
              "    </tr>\n",
              "  </tbody>\n",
              "</table>\n",
              "</div>\n",
              "    <div class=\"colab-df-buttons\">\n",
              "\n",
              "  <div class=\"colab-df-container\">\n",
              "    <button class=\"colab-df-convert\" onclick=\"convertToInteractive('df-0fbaf12b-acdb-4c1d-af3f-52df4182ed2a')\"\n",
              "            title=\"Convert this dataframe to an interactive table.\"\n",
              "            style=\"display:none;\">\n",
              "\n",
              "  <svg xmlns=\"http://www.w3.org/2000/svg\" height=\"24px\" viewBox=\"0 -960 960 960\">\n",
              "    <path d=\"M120-120v-720h720v720H120Zm60-500h600v-160H180v160Zm220 220h160v-160H400v160Zm0 220h160v-160H400v160ZM180-400h160v-160H180v160Zm440 0h160v-160H620v160ZM180-180h160v-160H180v160Zm440 0h160v-160H620v160Z\"/>\n",
              "  </svg>\n",
              "    </button>\n",
              "\n",
              "  <style>\n",
              "    .colab-df-container {\n",
              "      display:flex;\n",
              "      gap: 12px;\n",
              "    }\n",
              "\n",
              "    .colab-df-convert {\n",
              "      background-color: #E8F0FE;\n",
              "      border: none;\n",
              "      border-radius: 50%;\n",
              "      cursor: pointer;\n",
              "      display: none;\n",
              "      fill: #1967D2;\n",
              "      height: 32px;\n",
              "      padding: 0 0 0 0;\n",
              "      width: 32px;\n",
              "    }\n",
              "\n",
              "    .colab-df-convert:hover {\n",
              "      background-color: #E2EBFA;\n",
              "      box-shadow: 0px 1px 2px rgba(60, 64, 67, 0.3), 0px 1px 3px 1px rgba(60, 64, 67, 0.15);\n",
              "      fill: #174EA6;\n",
              "    }\n",
              "\n",
              "    .colab-df-buttons div {\n",
              "      margin-bottom: 4px;\n",
              "    }\n",
              "\n",
              "    [theme=dark] .colab-df-convert {\n",
              "      background-color: #3B4455;\n",
              "      fill: #D2E3FC;\n",
              "    }\n",
              "\n",
              "    [theme=dark] .colab-df-convert:hover {\n",
              "      background-color: #434B5C;\n",
              "      box-shadow: 0px 1px 3px 1px rgba(0, 0, 0, 0.15);\n",
              "      filter: drop-shadow(0px 1px 2px rgba(0, 0, 0, 0.3));\n",
              "      fill: #FFFFFF;\n",
              "    }\n",
              "  </style>\n",
              "\n",
              "    <script>\n",
              "      const buttonEl =\n",
              "        document.querySelector('#df-0fbaf12b-acdb-4c1d-af3f-52df4182ed2a button.colab-df-convert');\n",
              "      buttonEl.style.display =\n",
              "        google.colab.kernel.accessAllowed ? 'block' : 'none';\n",
              "\n",
              "      async function convertToInteractive(key) {\n",
              "        const element = document.querySelector('#df-0fbaf12b-acdb-4c1d-af3f-52df4182ed2a');\n",
              "        const dataTable =\n",
              "          await google.colab.kernel.invokeFunction('convertToInteractive',\n",
              "                                                    [key], {});\n",
              "        if (!dataTable) return;\n",
              "\n",
              "        const docLinkHtml = 'Like what you see? Visit the ' +\n",
              "          '<a target=\"_blank\" href=https://colab.research.google.com/notebooks/data_table.ipynb>data table notebook</a>'\n",
              "          + ' to learn more about interactive tables.';\n",
              "        element.innerHTML = '';\n",
              "        dataTable['output_type'] = 'display_data';\n",
              "        await google.colab.output.renderOutput(dataTable, element);\n",
              "        const docLink = document.createElement('div');\n",
              "        docLink.innerHTML = docLinkHtml;\n",
              "        element.appendChild(docLink);\n",
              "      }\n",
              "    </script>\n",
              "  </div>\n",
              "\n",
              "\n",
              "    <div id=\"df-033a9a7a-467d-44e7-8c36-ec19f9cc4cad\">\n",
              "      <button class=\"colab-df-quickchart\" onclick=\"quickchart('df-033a9a7a-467d-44e7-8c36-ec19f9cc4cad')\"\n",
              "                title=\"Suggest charts\"\n",
              "                style=\"display:none;\">\n",
              "\n",
              "<svg xmlns=\"http://www.w3.org/2000/svg\" height=\"24px\"viewBox=\"0 0 24 24\"\n",
              "     width=\"24px\">\n",
              "    <g>\n",
              "        <path d=\"M19 3H5c-1.1 0-2 .9-2 2v14c0 1.1.9 2 2 2h14c1.1 0 2-.9 2-2V5c0-1.1-.9-2-2-2zM9 17H7v-7h2v7zm4 0h-2V7h2v10zm4 0h-2v-4h2v4z\"/>\n",
              "    </g>\n",
              "</svg>\n",
              "      </button>\n",
              "\n",
              "<style>\n",
              "  .colab-df-quickchart {\n",
              "      --bg-color: #E8F0FE;\n",
              "      --fill-color: #1967D2;\n",
              "      --hover-bg-color: #E2EBFA;\n",
              "      --hover-fill-color: #174EA6;\n",
              "      --disabled-fill-color: #AAA;\n",
              "      --disabled-bg-color: #DDD;\n",
              "  }\n",
              "\n",
              "  [theme=dark] .colab-df-quickchart {\n",
              "      --bg-color: #3B4455;\n",
              "      --fill-color: #D2E3FC;\n",
              "      --hover-bg-color: #434B5C;\n",
              "      --hover-fill-color: #FFFFFF;\n",
              "      --disabled-bg-color: #3B4455;\n",
              "      --disabled-fill-color: #666;\n",
              "  }\n",
              "\n",
              "  .colab-df-quickchart {\n",
              "    background-color: var(--bg-color);\n",
              "    border: none;\n",
              "    border-radius: 50%;\n",
              "    cursor: pointer;\n",
              "    display: none;\n",
              "    fill: var(--fill-color);\n",
              "    height: 32px;\n",
              "    padding: 0;\n",
              "    width: 32px;\n",
              "  }\n",
              "\n",
              "  .colab-df-quickchart:hover {\n",
              "    background-color: var(--hover-bg-color);\n",
              "    box-shadow: 0 1px 2px rgba(60, 64, 67, 0.3), 0 1px 3px 1px rgba(60, 64, 67, 0.15);\n",
              "    fill: var(--button-hover-fill-color);\n",
              "  }\n",
              "\n",
              "  .colab-df-quickchart-complete:disabled,\n",
              "  .colab-df-quickchart-complete:disabled:hover {\n",
              "    background-color: var(--disabled-bg-color);\n",
              "    fill: var(--disabled-fill-color);\n",
              "    box-shadow: none;\n",
              "  }\n",
              "\n",
              "  .colab-df-spinner {\n",
              "    border: 2px solid var(--fill-color);\n",
              "    border-color: transparent;\n",
              "    border-bottom-color: var(--fill-color);\n",
              "    animation:\n",
              "      spin 1s steps(1) infinite;\n",
              "  }\n",
              "\n",
              "  @keyframes spin {\n",
              "    0% {\n",
              "      border-color: transparent;\n",
              "      border-bottom-color: var(--fill-color);\n",
              "      border-left-color: var(--fill-color);\n",
              "    }\n",
              "    20% {\n",
              "      border-color: transparent;\n",
              "      border-left-color: var(--fill-color);\n",
              "      border-top-color: var(--fill-color);\n",
              "    }\n",
              "    30% {\n",
              "      border-color: transparent;\n",
              "      border-left-color: var(--fill-color);\n",
              "      border-top-color: var(--fill-color);\n",
              "      border-right-color: var(--fill-color);\n",
              "    }\n",
              "    40% {\n",
              "      border-color: transparent;\n",
              "      border-right-color: var(--fill-color);\n",
              "      border-top-color: var(--fill-color);\n",
              "    }\n",
              "    60% {\n",
              "      border-color: transparent;\n",
              "      border-right-color: var(--fill-color);\n",
              "    }\n",
              "    80% {\n",
              "      border-color: transparent;\n",
              "      border-right-color: var(--fill-color);\n",
              "      border-bottom-color: var(--fill-color);\n",
              "    }\n",
              "    90% {\n",
              "      border-color: transparent;\n",
              "      border-bottom-color: var(--fill-color);\n",
              "    }\n",
              "  }\n",
              "</style>\n",
              "\n",
              "      <script>\n",
              "        async function quickchart(key) {\n",
              "          const quickchartButtonEl =\n",
              "            document.querySelector('#' + key + ' button');\n",
              "          quickchartButtonEl.disabled = true;  // To prevent multiple clicks.\n",
              "          quickchartButtonEl.classList.add('colab-df-spinner');\n",
              "          try {\n",
              "            const charts = await google.colab.kernel.invokeFunction(\n",
              "                'suggestCharts', [key], {});\n",
              "          } catch (error) {\n",
              "            console.error('Error during call to suggestCharts:', error);\n",
              "          }\n",
              "          quickchartButtonEl.classList.remove('colab-df-spinner');\n",
              "          quickchartButtonEl.classList.add('colab-df-quickchart-complete');\n",
              "        }\n",
              "        (() => {\n",
              "          let quickchartButtonEl =\n",
              "            document.querySelector('#df-033a9a7a-467d-44e7-8c36-ec19f9cc4cad button');\n",
              "          quickchartButtonEl.style.display =\n",
              "            google.colab.kernel.accessAllowed ? 'block' : 'none';\n",
              "        })();\n",
              "      </script>\n",
              "    </div>\n",
              "\n",
              "    </div>\n",
              "  </div>\n"
            ],
            "application/vnd.google.colaboratory.intrinsic+json": {
              "type": "dataframe",
              "variable_name": "df",
              "summary": "{\n  \"name\": \"df\",\n  \"rows\": 9900,\n  \"fields\": [\n    {\n      \"column\": \"Text\",\n      \"properties\": {\n        \"dtype\": \"string\",\n        \"num_unique_values\": 9865,\n        \"samples\": [\n          \" ICYMI: SNL Skewers \\u201cMorning Joe\\u201d And It Is Hilarious This week s cold open for Saturday Night Live featured a parody of the morning show, Morning Joe. The sketch featured Alex Moffat as host Joe Scarborough and Kate McKinnon as Mika Mika Brzezinski. The sketch also has Alec Baldwin as President Donald Trump, who calls into the show as  John Miller,  a spokesperson for the White House. Back in the day, Trump was known for calling reporters all over the New York area pretending to be his own publicist. He would call, not to tout his business successes but to brag about his sex life.The sketch also made fun of the relationship between the hosts. The pair got engaged recently when they were celebrating Mika s 50th birthday. The sketch shows the response from the other panelists on the show, Mark Halperin, Willie Geist and Mike Barnacle, who all have no idea how to respond to Joe and Mika s behavior on the set.Featured image via Frederick M. Brown/Getty Images.\",\n          \" BOMBSHELL: Information Suggests Trump Associates DID Collude With Russia, According To Officials Wednesday was not a good day to be Donald Trump. In the aftermath of the disastrous Comey hearing where it was confirmed that The Donald s team was indeed being investigated   and of Rep. Nunes  decision to skip informing his fellow congressional Russia investigators of perfectly legal  incidental collection  of information about Trump associates and possibly the President* himself and run to The Donald with it instead   Trump has been flailing, attempting to distract from the whole Russia thing as much as possible.That s going to be very hard now, as U.S. officials have now confirmed that the facts suggest that members of his team were indeed working with the enemy. CNN reports:The FBI has information that indicates associates of President Donald Trump communicated with suspected Russian operatives to possibly coordinate the release of information damaging to Hillary Clinton s campaign, US officials told CNN.\",\n          \" Vladimir Putin Just Defended Trump In The WORST Way Possible (VIDEO) According to Russian dictator Vladimir Putin, it s silly to worry about little things like whether or not a couple of Russian ladies peed on Donald Trump s bed because it s much, much worse to publish memos that reveal these allegations.Putin says that there is a conspiracy to  delegitimize  the man and his team of hackers, fake news writers, and trolls he worked hard to install in the Oval Office by hacking Trump s political opponents and running an aggressive propaganda campaign. I don t know Mr. Trump, I have never met him, I don t know what he will do in the international arena, so I have no reason either to attack him, criticize him or defend him, Putin said at a press conference. Donald Trump has been with the most beautiful women in the world, so why would he need prostitutes in Moscow? To answer that question, we need only look to a 2001 edition of the Howard Stern Show in which Trump was reminded that he bragged that he likes to go to Russia to have sex with women because they  have no morals. Putin says that Russian security services  do not chase every US billionaire,  and that the release of the documents was worse than prostitutes. In a way, he s right, as the documents presented to both Trump and President Obama also allege that members of the President-elect s campaign staff directly worked with the Russian government during the campaign.On numerous occasions, Trump has repeated Russian propaganda while attacking U.S. intelligence agencies that have been exposing him for what he is and, of course, has directly quoted Putin (a man whom Trump says is  very smart ) while hurling barbs at Hillary Clinton.Trump and Putin have been screaming about the  fake news  release of actual documents that actual intelligence agencies are in possession of, but the BBC reported recently that the whole pissing Russian ladies thing is just the tip of the iceberg. Correspondent Paul Wood revealed last week that at least four sources have confirmed the information, with one U.S. intelligence source informing him that there is audio and video of The Donald s escapades, and an Israeli news source reports that the country s spies have been warned against sharing information with the United States for fear that Trump will relay it to Putin.Putin and Trump s bromance is disconcerting at best   especially when more than a baker s dozen intelligence agencies have confirmed that the man who stood up to join Trump in his attacks on our intelligence agencies has been confirmed to have interfered in our election.Watch it below:Featured image via Getty Images\"\n        ],\n        \"semantic_type\": \"\",\n        \"description\": \"\"\n      }\n    },\n    {\n      \"column\": \"label\",\n      \"properties\": {\n        \"dtype\": \"category\",\n        \"num_unique_values\": 2,\n        \"samples\": [\n          \"Real\",\n          \"Fake\"\n        ],\n        \"semantic_type\": \"\",\n        \"description\": \"\"\n      }\n    },\n    {\n      \"column\": \"label1\",\n      \"properties\": {\n        \"dtype\": \"number\",\n        \"std\": 0,\n        \"min\": 0,\n        \"max\": 1,\n        \"num_unique_values\": 2,\n        \"samples\": [\n          1,\n          0\n        ],\n        \"semantic_type\": \"\",\n        \"description\": \"\"\n      }\n    }\n  ]\n}"
            }
          },
          "metadata": {},
          "execution_count": 16
        }
      ]
    },
    {
      "cell_type": "code",
      "source": [
        "import spacy\n",
        "!python -m spacy download en_core_web_lg\n",
        "\n",
        "nlp=spacy.load('en_core_web_lg')"
      ],
      "metadata": {
        "id": "lsPeWWOxwnLg",
        "outputId": "987a0418-b4a1-4bdf-b462-4cf4e3b2189a",
        "colab": {
          "base_uri": "https://localhost:8080/"
        }
      },
      "id": "lsPeWWOxwnLg",
      "execution_count": 18,
      "outputs": [
        {
          "output_type": "stream",
          "name": "stdout",
          "text": [
            "Collecting en-core-web-lg==3.8.0\n",
            "  Downloading https://github.com/explosion/spacy-models/releases/download/en_core_web_lg-3.8.0/en_core_web_lg-3.8.0-py3-none-any.whl (400.7 MB)\n",
            "\u001b[2K     \u001b[90m━━━━━━━━━━━━━━━━━━━━━━━━━━━━━━━━━━━━━━━\u001b[0m \u001b[32m400.7/400.7 MB\u001b[0m \u001b[31m2.0 MB/s\u001b[0m eta \u001b[36m0:00:00\u001b[0m\n",
            "\u001b[?25hInstalling collected packages: en-core-web-lg\n",
            "Successfully installed en-core-web-lg-3.8.0\n",
            "\u001b[38;5;2m✔ Download and installation successful\u001b[0m\n",
            "You can now load the package via spacy.load('en_core_web_lg')\n",
            "\u001b[38;5;3m⚠ Restart to reload dependencies\u001b[0m\n",
            "If you are in a Jupyter or Colab notebook, you may need to restart Python in\n",
            "order to load all the package's dependencies. You can do this by selecting the\n",
            "'Restart kernel' or 'Restart runtime' option.\n"
          ]
        }
      ]
    },
    {
      "cell_type": "code",
      "source": [
        "def preproce(text):\n",
        "  doc=nlp(text)\n",
        "  filtered_token=[]\n",
        "  for token in doc:\n",
        "    if token.is_stop or token.is_punct:\n",
        "      continue\n",
        "    filtered_token.append(token.lemma_)\n",
        "  return wv.get_mean_vector(filtered_token)"
      ],
      "metadata": {
        "id": "EHhaUy9ow48c"
      },
      "id": "EHhaUy9ow48c",
      "execution_count": 21,
      "outputs": []
    },
    {
      "cell_type": "code",
      "source": [
        "v=preproce(\"Hellow this is Abhishek kumar I living in Agra\")\n",
        "v.shape"
      ],
      "metadata": {
        "id": "UmodiQXWxwvo",
        "outputId": "2c215c69-19bb-4124-fe83-e584e614397e",
        "colab": {
          "base_uri": "https://localhost:8080/"
        }
      },
      "id": "UmodiQXWxwvo",
      "execution_count": 22,
      "outputs": [
        {
          "output_type": "execute_result",
          "data": {
            "text/plain": [
              "(200,)"
            ]
          },
          "metadata": {},
          "execution_count": 22
        }
      ]
    },
    {
      "cell_type": "code",
      "source": [
        "df['vector']=df['Text'].apply(lambda text: preproce(text))"
      ],
      "metadata": {
        "id": "7LhTwOj1x9S0"
      },
      "id": "7LhTwOj1x9S0",
      "execution_count": 23,
      "outputs": []
    },
    {
      "cell_type": "code",
      "source": [
        "df.head()"
      ],
      "metadata": {
        "id": "0GklH4DMyJll",
        "outputId": "1d0f47f5-bc95-4bc5-de55-1a64b5bc8b64",
        "colab": {
          "base_uri": "https://localhost:8080/",
          "height": 293
        }
      },
      "id": "0GklH4DMyJll",
      "execution_count": 24,
      "outputs": [
        {
          "output_type": "execute_result",
          "data": {
            "text/plain": [
              "                                                Text label  label1  \\\n",
              "0   Top Trump Surrogate BRUTALLY Stabs Him In The...  Fake       0   \n",
              "1  U.S. conservative leader optimistic of common ...  Real       1   \n",
              "2  Trump proposes U.S. tax overhaul, stirs concer...  Real       1   \n",
              "3   Court Forces Ohio To Allow Millions Of Illega...  Fake       0   \n",
              "4  Democrats say Trump agrees to work on immigrat...  Real       1   \n",
              "\n",
              "                                              vector  \n",
              "0  [0.035706397, 0.03533986, -0.03167796, 0.00186...  \n",
              "1  [-0.004028803, 0.059420403, 0.0048223054, 0.00...  \n",
              "2  [0.014939456, 0.017604223, -0.028910924, -0.00...  \n",
              "3  [-0.006379996, 0.027367575, -0.0150384065, -0....  \n",
              "4  [0.0023486856, 0.022433612, 0.0048411316, -0.0...  "
            ],
            "text/html": [
              "\n",
              "  <div id=\"df-52f69d10-e95d-4eec-a8f0-ae2ff678dec5\" class=\"colab-df-container\">\n",
              "    <div>\n",
              "<style scoped>\n",
              "    .dataframe tbody tr th:only-of-type {\n",
              "        vertical-align: middle;\n",
              "    }\n",
              "\n",
              "    .dataframe tbody tr th {\n",
              "        vertical-align: top;\n",
              "    }\n",
              "\n",
              "    .dataframe thead th {\n",
              "        text-align: right;\n",
              "    }\n",
              "</style>\n",
              "<table border=\"1\" class=\"dataframe\">\n",
              "  <thead>\n",
              "    <tr style=\"text-align: right;\">\n",
              "      <th></th>\n",
              "      <th>Text</th>\n",
              "      <th>label</th>\n",
              "      <th>label1</th>\n",
              "      <th>vector</th>\n",
              "    </tr>\n",
              "  </thead>\n",
              "  <tbody>\n",
              "    <tr>\n",
              "      <th>0</th>\n",
              "      <td>Top Trump Surrogate BRUTALLY Stabs Him In The...</td>\n",
              "      <td>Fake</td>\n",
              "      <td>0</td>\n",
              "      <td>[0.035706397, 0.03533986, -0.03167796, 0.00186...</td>\n",
              "    </tr>\n",
              "    <tr>\n",
              "      <th>1</th>\n",
              "      <td>U.S. conservative leader optimistic of common ...</td>\n",
              "      <td>Real</td>\n",
              "      <td>1</td>\n",
              "      <td>[-0.004028803, 0.059420403, 0.0048223054, 0.00...</td>\n",
              "    </tr>\n",
              "    <tr>\n",
              "      <th>2</th>\n",
              "      <td>Trump proposes U.S. tax overhaul, stirs concer...</td>\n",
              "      <td>Real</td>\n",
              "      <td>1</td>\n",
              "      <td>[0.014939456, 0.017604223, -0.028910924, -0.00...</td>\n",
              "    </tr>\n",
              "    <tr>\n",
              "      <th>3</th>\n",
              "      <td>Court Forces Ohio To Allow Millions Of Illega...</td>\n",
              "      <td>Fake</td>\n",
              "      <td>0</td>\n",
              "      <td>[-0.006379996, 0.027367575, -0.0150384065, -0....</td>\n",
              "    </tr>\n",
              "    <tr>\n",
              "      <th>4</th>\n",
              "      <td>Democrats say Trump agrees to work on immigrat...</td>\n",
              "      <td>Real</td>\n",
              "      <td>1</td>\n",
              "      <td>[0.0023486856, 0.022433612, 0.0048411316, -0.0...</td>\n",
              "    </tr>\n",
              "  </tbody>\n",
              "</table>\n",
              "</div>\n",
              "    <div class=\"colab-df-buttons\">\n",
              "\n",
              "  <div class=\"colab-df-container\">\n",
              "    <button class=\"colab-df-convert\" onclick=\"convertToInteractive('df-52f69d10-e95d-4eec-a8f0-ae2ff678dec5')\"\n",
              "            title=\"Convert this dataframe to an interactive table.\"\n",
              "            style=\"display:none;\">\n",
              "\n",
              "  <svg xmlns=\"http://www.w3.org/2000/svg\" height=\"24px\" viewBox=\"0 -960 960 960\">\n",
              "    <path d=\"M120-120v-720h720v720H120Zm60-500h600v-160H180v160Zm220 220h160v-160H400v160Zm0 220h160v-160H400v160ZM180-400h160v-160H180v160Zm440 0h160v-160H620v160ZM180-180h160v-160H180v160Zm440 0h160v-160H620v160Z\"/>\n",
              "  </svg>\n",
              "    </button>\n",
              "\n",
              "  <style>\n",
              "    .colab-df-container {\n",
              "      display:flex;\n",
              "      gap: 12px;\n",
              "    }\n",
              "\n",
              "    .colab-df-convert {\n",
              "      background-color: #E8F0FE;\n",
              "      border: none;\n",
              "      border-radius: 50%;\n",
              "      cursor: pointer;\n",
              "      display: none;\n",
              "      fill: #1967D2;\n",
              "      height: 32px;\n",
              "      padding: 0 0 0 0;\n",
              "      width: 32px;\n",
              "    }\n",
              "\n",
              "    .colab-df-convert:hover {\n",
              "      background-color: #E2EBFA;\n",
              "      box-shadow: 0px 1px 2px rgba(60, 64, 67, 0.3), 0px 1px 3px 1px rgba(60, 64, 67, 0.15);\n",
              "      fill: #174EA6;\n",
              "    }\n",
              "\n",
              "    .colab-df-buttons div {\n",
              "      margin-bottom: 4px;\n",
              "    }\n",
              "\n",
              "    [theme=dark] .colab-df-convert {\n",
              "      background-color: #3B4455;\n",
              "      fill: #D2E3FC;\n",
              "    }\n",
              "\n",
              "    [theme=dark] .colab-df-convert:hover {\n",
              "      background-color: #434B5C;\n",
              "      box-shadow: 0px 1px 3px 1px rgba(0, 0, 0, 0.15);\n",
              "      filter: drop-shadow(0px 1px 2px rgba(0, 0, 0, 0.3));\n",
              "      fill: #FFFFFF;\n",
              "    }\n",
              "  </style>\n",
              "\n",
              "    <script>\n",
              "      const buttonEl =\n",
              "        document.querySelector('#df-52f69d10-e95d-4eec-a8f0-ae2ff678dec5 button.colab-df-convert');\n",
              "      buttonEl.style.display =\n",
              "        google.colab.kernel.accessAllowed ? 'block' : 'none';\n",
              "\n",
              "      async function convertToInteractive(key) {\n",
              "        const element = document.querySelector('#df-52f69d10-e95d-4eec-a8f0-ae2ff678dec5');\n",
              "        const dataTable =\n",
              "          await google.colab.kernel.invokeFunction('convertToInteractive',\n",
              "                                                    [key], {});\n",
              "        if (!dataTable) return;\n",
              "\n",
              "        const docLinkHtml = 'Like what you see? Visit the ' +\n",
              "          '<a target=\"_blank\" href=https://colab.research.google.com/notebooks/data_table.ipynb>data table notebook</a>'\n",
              "          + ' to learn more about interactive tables.';\n",
              "        element.innerHTML = '';\n",
              "        dataTable['output_type'] = 'display_data';\n",
              "        await google.colab.output.renderOutput(dataTable, element);\n",
              "        const docLink = document.createElement('div');\n",
              "        docLink.innerHTML = docLinkHtml;\n",
              "        element.appendChild(docLink);\n",
              "      }\n",
              "    </script>\n",
              "  </div>\n",
              "\n",
              "\n",
              "    <div id=\"df-6a089633-9951-4b94-a17d-a2fecd42e1d0\">\n",
              "      <button class=\"colab-df-quickchart\" onclick=\"quickchart('df-6a089633-9951-4b94-a17d-a2fecd42e1d0')\"\n",
              "                title=\"Suggest charts\"\n",
              "                style=\"display:none;\">\n",
              "\n",
              "<svg xmlns=\"http://www.w3.org/2000/svg\" height=\"24px\"viewBox=\"0 0 24 24\"\n",
              "     width=\"24px\">\n",
              "    <g>\n",
              "        <path d=\"M19 3H5c-1.1 0-2 .9-2 2v14c0 1.1.9 2 2 2h14c1.1 0 2-.9 2-2V5c0-1.1-.9-2-2-2zM9 17H7v-7h2v7zm4 0h-2V7h2v10zm4 0h-2v-4h2v4z\"/>\n",
              "    </g>\n",
              "</svg>\n",
              "      </button>\n",
              "\n",
              "<style>\n",
              "  .colab-df-quickchart {\n",
              "      --bg-color: #E8F0FE;\n",
              "      --fill-color: #1967D2;\n",
              "      --hover-bg-color: #E2EBFA;\n",
              "      --hover-fill-color: #174EA6;\n",
              "      --disabled-fill-color: #AAA;\n",
              "      --disabled-bg-color: #DDD;\n",
              "  }\n",
              "\n",
              "  [theme=dark] .colab-df-quickchart {\n",
              "      --bg-color: #3B4455;\n",
              "      --fill-color: #D2E3FC;\n",
              "      --hover-bg-color: #434B5C;\n",
              "      --hover-fill-color: #FFFFFF;\n",
              "      --disabled-bg-color: #3B4455;\n",
              "      --disabled-fill-color: #666;\n",
              "  }\n",
              "\n",
              "  .colab-df-quickchart {\n",
              "    background-color: var(--bg-color);\n",
              "    border: none;\n",
              "    border-radius: 50%;\n",
              "    cursor: pointer;\n",
              "    display: none;\n",
              "    fill: var(--fill-color);\n",
              "    height: 32px;\n",
              "    padding: 0;\n",
              "    width: 32px;\n",
              "  }\n",
              "\n",
              "  .colab-df-quickchart:hover {\n",
              "    background-color: var(--hover-bg-color);\n",
              "    box-shadow: 0 1px 2px rgba(60, 64, 67, 0.3), 0 1px 3px 1px rgba(60, 64, 67, 0.15);\n",
              "    fill: var(--button-hover-fill-color);\n",
              "  }\n",
              "\n",
              "  .colab-df-quickchart-complete:disabled,\n",
              "  .colab-df-quickchart-complete:disabled:hover {\n",
              "    background-color: var(--disabled-bg-color);\n",
              "    fill: var(--disabled-fill-color);\n",
              "    box-shadow: none;\n",
              "  }\n",
              "\n",
              "  .colab-df-spinner {\n",
              "    border: 2px solid var(--fill-color);\n",
              "    border-color: transparent;\n",
              "    border-bottom-color: var(--fill-color);\n",
              "    animation:\n",
              "      spin 1s steps(1) infinite;\n",
              "  }\n",
              "\n",
              "  @keyframes spin {\n",
              "    0% {\n",
              "      border-color: transparent;\n",
              "      border-bottom-color: var(--fill-color);\n",
              "      border-left-color: var(--fill-color);\n",
              "    }\n",
              "    20% {\n",
              "      border-color: transparent;\n",
              "      border-left-color: var(--fill-color);\n",
              "      border-top-color: var(--fill-color);\n",
              "    }\n",
              "    30% {\n",
              "      border-color: transparent;\n",
              "      border-left-color: var(--fill-color);\n",
              "      border-top-color: var(--fill-color);\n",
              "      border-right-color: var(--fill-color);\n",
              "    }\n",
              "    40% {\n",
              "      border-color: transparent;\n",
              "      border-right-color: var(--fill-color);\n",
              "      border-top-color: var(--fill-color);\n",
              "    }\n",
              "    60% {\n",
              "      border-color: transparent;\n",
              "      border-right-color: var(--fill-color);\n",
              "    }\n",
              "    80% {\n",
              "      border-color: transparent;\n",
              "      border-right-color: var(--fill-color);\n",
              "      border-bottom-color: var(--fill-color);\n",
              "    }\n",
              "    90% {\n",
              "      border-color: transparent;\n",
              "      border-bottom-color: var(--fill-color);\n",
              "    }\n",
              "  }\n",
              "</style>\n",
              "\n",
              "      <script>\n",
              "        async function quickchart(key) {\n",
              "          const quickchartButtonEl =\n",
              "            document.querySelector('#' + key + ' button');\n",
              "          quickchartButtonEl.disabled = true;  // To prevent multiple clicks.\n",
              "          quickchartButtonEl.classList.add('colab-df-spinner');\n",
              "          try {\n",
              "            const charts = await google.colab.kernel.invokeFunction(\n",
              "                'suggestCharts', [key], {});\n",
              "          } catch (error) {\n",
              "            console.error('Error during call to suggestCharts:', error);\n",
              "          }\n",
              "          quickchartButtonEl.classList.remove('colab-df-spinner');\n",
              "          quickchartButtonEl.classList.add('colab-df-quickchart-complete');\n",
              "        }\n",
              "        (() => {\n",
              "          let quickchartButtonEl =\n",
              "            document.querySelector('#df-6a089633-9951-4b94-a17d-a2fecd42e1d0 button');\n",
              "          quickchartButtonEl.style.display =\n",
              "            google.colab.kernel.accessAllowed ? 'block' : 'none';\n",
              "        })();\n",
              "      </script>\n",
              "    </div>\n",
              "\n",
              "    </div>\n",
              "  </div>\n"
            ],
            "application/vnd.google.colaboratory.intrinsic+json": {
              "type": "dataframe",
              "variable_name": "df",
              "summary": "{\n  \"name\": \"df\",\n  \"rows\": 9900,\n  \"fields\": [\n    {\n      \"column\": \"Text\",\n      \"properties\": {\n        \"dtype\": \"string\",\n        \"num_unique_values\": 9865,\n        \"samples\": [\n          \" ICYMI: SNL Skewers \\u201cMorning Joe\\u201d And It Is Hilarious This week s cold open for Saturday Night Live featured a parody of the morning show, Morning Joe. The sketch featured Alex Moffat as host Joe Scarborough and Kate McKinnon as Mika Mika Brzezinski. The sketch also has Alec Baldwin as President Donald Trump, who calls into the show as  John Miller,  a spokesperson for the White House. Back in the day, Trump was known for calling reporters all over the New York area pretending to be his own publicist. He would call, not to tout his business successes but to brag about his sex life.The sketch also made fun of the relationship between the hosts. The pair got engaged recently when they were celebrating Mika s 50th birthday. The sketch shows the response from the other panelists on the show, Mark Halperin, Willie Geist and Mike Barnacle, who all have no idea how to respond to Joe and Mika s behavior on the set.Featured image via Frederick M. Brown/Getty Images.\",\n          \" BOMBSHELL: Information Suggests Trump Associates DID Collude With Russia, According To Officials Wednesday was not a good day to be Donald Trump. In the aftermath of the disastrous Comey hearing where it was confirmed that The Donald s team was indeed being investigated   and of Rep. Nunes  decision to skip informing his fellow congressional Russia investigators of perfectly legal  incidental collection  of information about Trump associates and possibly the President* himself and run to The Donald with it instead   Trump has been flailing, attempting to distract from the whole Russia thing as much as possible.That s going to be very hard now, as U.S. officials have now confirmed that the facts suggest that members of his team were indeed working with the enemy. CNN reports:The FBI has information that indicates associates of President Donald Trump communicated with suspected Russian operatives to possibly coordinate the release of information damaging to Hillary Clinton s campaign, US officials told CNN.\",\n          \" Vladimir Putin Just Defended Trump In The WORST Way Possible (VIDEO) According to Russian dictator Vladimir Putin, it s silly to worry about little things like whether or not a couple of Russian ladies peed on Donald Trump s bed because it s much, much worse to publish memos that reveal these allegations.Putin says that there is a conspiracy to  delegitimize  the man and his team of hackers, fake news writers, and trolls he worked hard to install in the Oval Office by hacking Trump s political opponents and running an aggressive propaganda campaign. I don t know Mr. Trump, I have never met him, I don t know what he will do in the international arena, so I have no reason either to attack him, criticize him or defend him, Putin said at a press conference. Donald Trump has been with the most beautiful women in the world, so why would he need prostitutes in Moscow? To answer that question, we need only look to a 2001 edition of the Howard Stern Show in which Trump was reminded that he bragged that he likes to go to Russia to have sex with women because they  have no morals. Putin says that Russian security services  do not chase every US billionaire,  and that the release of the documents was worse than prostitutes. In a way, he s right, as the documents presented to both Trump and President Obama also allege that members of the President-elect s campaign staff directly worked with the Russian government during the campaign.On numerous occasions, Trump has repeated Russian propaganda while attacking U.S. intelligence agencies that have been exposing him for what he is and, of course, has directly quoted Putin (a man whom Trump says is  very smart ) while hurling barbs at Hillary Clinton.Trump and Putin have been screaming about the  fake news  release of actual documents that actual intelligence agencies are in possession of, but the BBC reported recently that the whole pissing Russian ladies thing is just the tip of the iceberg. Correspondent Paul Wood revealed last week that at least four sources have confirmed the information, with one U.S. intelligence source informing him that there is audio and video of The Donald s escapades, and an Israeli news source reports that the country s spies have been warned against sharing information with the United States for fear that Trump will relay it to Putin.Putin and Trump s bromance is disconcerting at best   especially when more than a baker s dozen intelligence agencies have confirmed that the man who stood up to join Trump in his attacks on our intelligence agencies has been confirmed to have interfered in our election.Watch it below:Featured image via Getty Images\"\n        ],\n        \"semantic_type\": \"\",\n        \"description\": \"\"\n      }\n    },\n    {\n      \"column\": \"label\",\n      \"properties\": {\n        \"dtype\": \"category\",\n        \"num_unique_values\": 2,\n        \"samples\": [\n          \"Real\",\n          \"Fake\"\n        ],\n        \"semantic_type\": \"\",\n        \"description\": \"\"\n      }\n    },\n    {\n      \"column\": \"label1\",\n      \"properties\": {\n        \"dtype\": \"number\",\n        \"std\": 0,\n        \"min\": 0,\n        \"max\": 1,\n        \"num_unique_values\": 2,\n        \"samples\": [\n          1,\n          0\n        ],\n        \"semantic_type\": \"\",\n        \"description\": \"\"\n      }\n    },\n    {\n      \"column\": \"vector\",\n      \"properties\": {\n        \"dtype\": \"object\",\n        \"semantic_type\": \"\",\n        \"description\": \"\"\n      }\n    }\n  ]\n}"
            }
          },
          "metadata": {},
          "execution_count": 24
        }
      ]
    },
    {
      "cell_type": "code",
      "source": [
        "from sklearn.model_selection import train_test_split\n",
        "X_train, X_test, y_train, y_test=train_test_split(df['vector'],df['label1'], test_size=0.2)"
      ],
      "metadata": {
        "id": "Sc62gTtF19zQ"
      },
      "id": "Sc62gTtF19zQ",
      "execution_count": 25,
      "outputs": []
    },
    {
      "cell_type": "code",
      "source": [
        "print(\"Shape of X_train before reshaping: \", X_train.shape)\n",
        "print(\"Shape of X_test before reshaping: \", X_test.shape)\n",
        "\n",
        "\n",
        "X_train_2d = np.stack(X_train)\n",
        "X_test_2d =  np.stack(X_test)\n",
        "\n",
        "print(\"Shape of X_train after reshaping: \", X_train_2d.shape)\n",
        "print(\"Shape of X_test after reshaping: \", X_test_2d.shape)"
      ],
      "metadata": {
        "id": "5jAQP1iR2PlW",
        "outputId": "72a34388-2f65-438e-9942-9b1c39e15d20",
        "colab": {
          "base_uri": "https://localhost:8080/"
        }
      },
      "id": "5jAQP1iR2PlW",
      "execution_count": 26,
      "outputs": [
        {
          "output_type": "stream",
          "name": "stdout",
          "text": [
            "Shape of X_train before reshaping:  (7920,)\n",
            "Shape of X_test before reshaping:  (1980,)\n",
            "Shape of X_train after reshaping:  (7920, 200)\n",
            "Shape of X_test after reshaping:  (1980, 200)\n"
          ]
        }
      ]
    },
    {
      "cell_type": "code",
      "source": [
        "from sklearn.ensemble import GradientBoostingClassifier\n",
        "from sklearn.metrics import classification_report\n",
        "\n",
        "gr=GradientBoostingClassifier()\n",
        "gr.fit(X_train_2d, y_train)\n",
        "y_pred=gr.predict(X_test_2d)\n",
        "\n",
        "print(classification_report(y_test, y_pred))"
      ],
      "metadata": {
        "id": "lBrRaIdx2V20",
        "outputId": "076a2f70-02b5-4a2f-c277-576e2eabd716",
        "colab": {
          "base_uri": "https://localhost:8080/"
        }
      },
      "id": "lBrRaIdx2V20",
      "execution_count": 27,
      "outputs": [
        {
          "output_type": "stream",
          "name": "stdout",
          "text": [
            "              precision    recall  f1-score   support\n",
            "\n",
            "           0       0.98      0.97      0.97      1007\n",
            "           1       0.97      0.98      0.97       973\n",
            "\n",
            "    accuracy                           0.97      1980\n",
            "   macro avg       0.97      0.97      0.97      1980\n",
            "weighted avg       0.97      0.97      0.97      1980\n",
            "\n"
          ]
        }
      ]
    },
    {
      "cell_type": "code",
      "source": [
        "test_news = [\n",
        "    \"Michigan governor denies misleading U.S. House on Flint water (Reuters) - Michigan Governor Rick Snyder denied Thursday that he had misled a U.S. House of Representatives committee last year over testimony on Flintâ€™s water crisis after lawmakers asked if his testimony had been contradicted by a witness in a court hearing. The House Oversight and Government Reform Committee wrote Snyder earlier Thursday asking him about published reports that one of his aides, Harvey Hollins, testified in a court hearing last week in Michigan that he had notified Snyder of an outbreak of Legionnairesâ€™ disease linked to the Flint water crisis in December 2015, rather than 2016 as Snyder had testified. â€œMy testimony was truthful and I stand by it,â€ Snyder told the committee in a letter, adding that his office has provided tens of thousands of pages of records to the committee and would continue to cooperate fully.  Last week, prosecutors in Michigan said Dr. Eden Wells, the stateâ€™s chief medical executive who already faced lesser charges, would become the sixth current or former official to face involuntary manslaughter charges in connection with the crisis. The charges stem from more than 80 cases of Legionnairesâ€™ disease and at least 12 deaths that were believed to be linked to the water in Flint after the city switched its source from Lake Huron to the Flint River in April 2014. Wells was among six current and former Michigan and Flint officials charged in June. The other five, including Michigan Health and Human Services Director Nick Lyon, were charged at the time with involuntary manslaughter\",\n",
        "    \" WATCH: Fox News Host Loses Her Sh*t, Says Investigating Russia For Hacking Our Election Is Unpatriotic This woman is insane.In an incredibly disrespectful rant against President Obama and anyone else who supports investigating Russian interference in our election, Fox News host Jeanine Pirro said that anybody who is against Donald Trump is anti-American. Look, it s time to take sides,  she began.\",\n",
        "    \" Sarah Palin Celebrates After White Man Who Pulled Gun On Black Protesters Goes Unpunished (VIDEO) Sarah Palin, one of the nigh-innumerable  deplorables  in Donald Trump s  basket,  almost outdid herself in terms of horribleness on Friday.\"\n",
        "]\n",
        "\n",
        "test_news_vectors = [preproce(n) for n in test_news]\n",
        "gr.predict(test_news_vectors)"
      ],
      "metadata": {
        "id": "cMyPLlDS2z5h",
        "outputId": "c8f7ff76-c4d3-48ff-8c4c-db1f13db4250",
        "colab": {
          "base_uri": "https://localhost:8080/"
        }
      },
      "id": "cMyPLlDS2z5h",
      "execution_count": 29,
      "outputs": [
        {
          "output_type": "execute_result",
          "data": {
            "text/plain": [
              "array([1, 0, 0])"
            ]
          },
          "metadata": {},
          "execution_count": 29
        }
      ]
    },
    {
      "cell_type": "code",
      "source": [
        "\n",
        "from sklearn.metrics import confusion_matrix\n",
        "cm = confusion_matrix(y_test, y_pred)\n",
        "cm\n",
        "\n",
        "\n",
        "from matplotlib import pyplot as plt\n",
        "import seaborn as sn\n",
        "plt.figure(figsize = (10,7))\n",
        "sn.heatmap(cm, annot=True, fmt='d')\n",
        "plt.xlabel('Prediction')\n",
        "plt.ylabel('Truth')"
      ],
      "metadata": {
        "id": "LeCJBL_h4HWq",
        "outputId": "365644d5-5312-4b34-f6db-0ab28ef2316b",
        "colab": {
          "base_uri": "https://localhost:8080/",
          "height": 637
        }
      },
      "id": "LeCJBL_h4HWq",
      "execution_count": 30,
      "outputs": [
        {
          "output_type": "execute_result",
          "data": {
            "text/plain": [
              "Text(95.72222222222221, 0.5, 'Truth')"
            ]
          },
          "metadata": {},
          "execution_count": 30
        },
        {
          "output_type": "display_data",
          "data": {
            "text/plain": [
              "<Figure size 1000x700 with 2 Axes>"
            ],
            "image/png": "[encoded data removed]"
          },
          "metadata": {}
        }
      ]
    },
    {
      "cell_type": "code",
      "source": [],
      "metadata": {
        "id": "F6xoifbo4aWW"
      },
      "id": "F6xoifbo4aWW",
      "execution_count": null,
      "outputs": []
    }
  ],
  "metadata": {
    "kernelspec": {
      "display_name": "Python 3",
      "language": "python",
      "name": "python3"
    },
    "language_info": {
      "codemirror_mode": {
        "name": "ipython",
        "version": 3
      },
      "file_extension": ".py",
      "mimetype": "text/x-python",
      "name": "python",
      "nbconvert_exporter": "python",
      "pygments_lexer": "ipython3",
      "version": "3.8.10"
    },
    "colab": {
      "provenance": [],
      "include_colab_link": true
    }
  },
  "nbformat": 4,
  "nbformat_minor": 5
}