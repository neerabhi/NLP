{
  "cells": [
    {
      "cell_type": "markdown",
      "metadata": {
        "id": "view-in-github",
        "colab_type": "text"
      },
      "source": [
        "<a href=\"https://colab.research.google.com/github/neerabhi/NLP/blob/main/part_of_speech.ipynb\" target=\"_parent\"><img src=\"https://colab.research.google.com/assets/colab-badge.svg\" alt=\"Open In Colab\"/></a>"
      ]
    },
    {
      "cell_type": "code",
      "execution_count": null,
      "metadata": {
        "id": "_FHZFXuQ-tbN"
      },
      "outputs": [],
      "source": [
        "import spacy"
      ]
    },
    {
      "cell_type": "markdown",
      "metadata": {
        "id": "1oqUnuMa-tbP"
      },
      "source": [
        "<h3>POS tags</h3>"
      ]
    },
    {
      "cell_type": "code",
      "execution_count": null,
      "metadata": {
        "scrolled": true,
        "id": "J1_C81-7-tbQ",
        "outputId": "35589092-9861-42fe-995b-9982bd4aa496"
      },
      "outputs": [
        {
          "name": "stdout",
          "output_type": "stream",
          "text": [
            "Elon  |  PROPN  |  proper noun\n",
            "flew  |  VERB  |  verb\n",
            "to  |  ADP  |  adposition\n",
            "mars  |  NOUN  |  noun\n",
            "yesterday  |  NOUN  |  noun\n",
            ".  |  PUNCT  |  punctuation\n",
            "He  |  PRON  |  pronoun\n",
            "carried  |  VERB  |  verb\n",
            "biryani  |  PROPN  |  proper noun\n",
            "masala  |  NOUN  |  noun\n",
            "with  |  ADP  |  adposition\n",
            "him  |  PRON  |  pronoun\n"
          ]
        }
      ],
      "source": [
        "nlp = spacy.load(\"en_core_web_sm\")\n",
        "doc = nlp(\"Elon flew to mars yesterday. He carried biryani masala with him\")\n",
        "\n",
        "for token in doc:\n",
        "    print(token,\" | \", token.pos_, \" | \", spacy.explain(token.pos_))"
      ]
    },
    {
      "cell_type": "markdown",
      "metadata": {
        "id": "cyTS61qF-tbR"
      },
      "source": [
        "You can check https://v2.spacy.io/api/annotation for the complete list of pos categories in spacy.\n",
        "\n",
        "https://en.wikipedia.org/wiki/Preposition_and_postposition\n",
        "\n",
        "https://en.wikipedia.org/wiki/Part_of_speech"
      ]
    },
    {
      "cell_type": "code",
      "execution_count": null,
      "metadata": {
        "id": "qpmAlgtI-tbS",
        "outputId": "badd813f-7953-46ea-daea-c810a5ec7482"
      },
      "outputs": [
        {
          "name": "stdout",
          "output_type": "stream",
          "text": [
            "Wow  |  INTJ  |  interjection\n",
            "!  |  PUNCT  |  punctuation\n",
            "Dr.  |  PROPN  |  proper noun\n",
            "Strange  |  PROPN  |  proper noun\n",
            "made  |  VERB  |  verb\n",
            "265  |  NUM  |  numeral\n",
            "million  |  NUM  |  numeral\n",
            "$  |  NUM  |  numeral\n",
            "on  |  ADP  |  adposition\n",
            "the  |  DET  |  determiner\n",
            "very  |  ADV  |  adverb\n",
            "first  |  ADJ  |  adjective\n",
            "day  |  NOUN  |  noun\n"
          ]
        }
      ],
      "source": [
        "doc = nlp(\"Wow! Dr. Strange made 265 million $ on the very first day\")\n",
        "\n",
        "for token in doc:\n",
        "    print(token,\" | \", token.pos_, \" | \", spacy.explain(token.pos_))"
      ]
    },
    {
      "cell_type": "markdown",
      "metadata": {
        "id": "tfmI3_dn-tbT"
      },
      "source": [
        "<h3>Tags</h3>"
      ]
    },
    {
      "cell_type": "code",
      "execution_count": null,
      "metadata": {
        "id": "pPcXX3v0-tbT",
        "outputId": "50bfde11-c6cf-45a1-9b09-0eba0ef03a3b"
      },
      "outputs": [
        {
          "name": "stdout",
          "output_type": "stream",
          "text": [
            "Wow  |  INTJ  |  interjection  |  UH  |  interjection\n",
            "!  |  PUNCT  |  punctuation  |  .  |  punctuation mark, sentence closer\n",
            "Dr.  |  PROPN  |  proper noun  |  NNP  |  noun, proper singular\n",
            "Strange  |  PROPN  |  proper noun  |  NNP  |  noun, proper singular\n",
            "made  |  VERB  |  verb  |  VBD  |  verb, past tense\n",
            "265  |  NUM  |  numeral  |  CD  |  cardinal number\n",
            "million  |  NUM  |  numeral  |  CD  |  cardinal number\n",
            "$  |  NUM  |  numeral  |  CD  |  cardinal number\n",
            "on  |  ADP  |  adposition  |  IN  |  conjunction, subordinating or preposition\n",
            "the  |  DET  |  determiner  |  DT  |  determiner\n",
            "very  |  ADV  |  adverb  |  RB  |  adverb\n",
            "first  |  ADJ  |  adjective  |  JJ  |  adjective (English), other noun-modifier (Chinese)\n",
            "day  |  NOUN  |  noun  |  NN  |  noun, singular or mass\n"
          ]
        }
      ],
      "source": [
        "doc = nlp(\"Wow! Dr. Strange made 265 million $ on the very first day\")\n",
        "\n",
        "for token in doc:\n",
        "    print(token,\" | \", token.pos_, \" | \", spacy.explain(token.pos_), \" | \", token.tag_, \" | \", spacy.explain(token.tag_))"
      ]
    },
    {
      "cell_type": "markdown",
      "metadata": {
        "id": "MQViadxb-tbU"
      },
      "source": [
        "<h3>In below sentences Spacy figures out the past vs present tense for quit </h3>"
      ]
    },
    {
      "cell_type": "code",
      "execution_count": null,
      "metadata": {
        "id": "T1J7OR80-tbV",
        "outputId": "539c04e9-af83-4c6a-8dd6-13ef1d67afd8"
      },
      "outputs": [
        {
          "name": "stdout",
          "output_type": "stream",
          "text": [
            "quits | VBZ | verb, 3rd person singular present\n"
          ]
        }
      ],
      "source": [
        "doc = nlp(\"He quits the job\")\n",
        "\n",
        "print(doc[1].text, \"|\", doc[1].tag_, \"|\", spacy.explain(doc[1].tag_))"
      ]
    },
    {
      "cell_type": "code",
      "execution_count": null,
      "metadata": {
        "scrolled": true,
        "id": "6XtIvpHq-tbV",
        "outputId": "ff956373-280f-4783-bd61-de0ae5a015ae"
      },
      "outputs": [
        {
          "name": "stdout",
          "output_type": "stream",
          "text": [
            "quit | VBD | verb, past tense\n"
          ]
        }
      ],
      "source": [
        "doc = nlp(\"he quit the job\")\n",
        "\n",
        "print(doc[1].text, \"|\", doc[1].tag_, \"|\", spacy.explain(doc[1].tag_))"
      ]
    },
    {
      "cell_type": "markdown",
      "metadata": {
        "id": "wFRpH_6w-tbW"
      },
      "source": [
        "<h3>Removing all SPACE, PUNCT and X token from text</h3>"
      ]
    },
    {
      "cell_type": "markdown",
      "metadata": {
        "id": "cF-fMnT1-tbW"
      },
      "source": [
        "Processing microsoft's earning report: https://www.microsoft.com/en-us/investor/earnings/fy-2022-q2/press-release-webcast"
      ]
    },
    {
      "cell_type": "code",
      "execution_count": null,
      "metadata": {
        "scrolled": false,
        "id": "RQvJAV1w-tbW"
      },
      "outputs": [],
      "source": [
        "earnings_text=\"\"\"Microsoft Corp. today announced the following results for the quarter ended December 31, 2021, as compared to the corresponding period of last fiscal year:\n",
        "\n",
        "·         Revenue was $51.7 billion and increased 20%\n",
        "·         Operating income was $22.2 billion and increased 24%\n",
        "·         Net income was $18.8 billion and increased 21%\n",
        "·         Diluted earnings per share was $2.48 and increased 22%\n",
        "“Digital technology is the most malleable resource at the world’s disposal to overcome constraints and reimagine everyday work and life,” said Satya Nadella, chairman and chief executive officer of Microsoft. “As tech as a percentage of global GDP continues to increase, we are innovating and investing across diverse and growing markets, with a common underlying technology stack and an operating model that reinforces a common strategy, culture, and sense of purpose.”\n",
        "“Solid commercial execution, represented by strong bookings growth driven by long-term Azure commitments, increased Microsoft Cloud revenue to $22.1 billion, up 32% year over year” said Amy Hood, executive vice president and chief financial officer of Microsoft.\"\"\"\n",
        "\n",
        "doc = nlp(earnings_text)\n",
        "\n",
        "filtered_tokens = []\n",
        "\n",
        "for token in doc:\n",
        "    if token.pos_ not in [\"SPACE\", \"PUNCT\", \"X\"]:\n",
        "        filtered_tokens.append(token)"
      ]
    },
    {
      "cell_type": "code",
      "execution_count": null,
      "metadata": {
        "scrolled": false,
        "id": "JLe0eS_Q-tbX",
        "outputId": "87532d67-7529-474a-def8-76640887a14c"
      },
      "outputs": [
        {
          "data": {
            "text/plain": [
              "[Microsoft,\n",
              " Corp.,\n",
              " today,\n",
              " announced,\n",
              " the,\n",
              " following,\n",
              " results,\n",
              " for,\n",
              " the,\n",
              " quarter]"
            ]
          },
          "execution_count": 50,
          "metadata": {},
          "output_type": "execute_result"
        }
      ],
      "source": [
        "filtered_tokens[:10]"
      ]
    },
    {
      "cell_type": "code",
      "execution_count": null,
      "metadata": {
        "id": "u7FtMtMs-tbX",
        "outputId": "c5dc54be-5a8f-4472-85a1-42012f9541c0"
      },
      "outputs": [
        {
          "data": {
            "text/plain": [
              "{96: 13,\n",
              " 92: 48,\n",
              " 100: 23,\n",
              " 90: 9,\n",
              " 85: 17,\n",
              " 93: 16,\n",
              " 97: 27,\n",
              " 98: 1,\n",
              " 84: 19,\n",
              " 103: 10,\n",
              " 87: 6,\n",
              " 99: 5,\n",
              " 89: 12,\n",
              " 86: 2,\n",
              " 94: 3,\n",
              " 95: 2}"
            ]
          },
          "execution_count": 47,
          "metadata": {},
          "output_type": "execute_result"
        }
      ],
      "source": [
        "count = doc.count_by(spacy.attrs.POS)\n",
        "count"
      ]
    },
    {
      "cell_type": "code",
      "execution_count": null,
      "metadata": {
        "id": "8-znLyuu-tbY",
        "outputId": "3d817e83-a77d-44ba-a464-e088c2e04ed3"
      },
      "outputs": [
        {
          "data": {
            "text/plain": [
              "'PROPN'"
            ]
          },
          "execution_count": 48,
          "metadata": {},
          "output_type": "execute_result"
        }
      ],
      "source": [
        "doc.vocab[96].text"
      ]
    },
    {
      "cell_type": "code",
      "execution_count": null,
      "metadata": {
        "id": "xjNjfotx-tbZ",
        "outputId": "f13d4b51-10e2-48cf-a939-f3f82446371d"
      },
      "outputs": [
        {
          "name": "stdout",
          "output_type": "stream",
          "text": [
            "PROPN | 13\n",
            "NOUN | 48\n",
            "VERB | 23\n",
            "DET | 9\n",
            "ADP | 17\n",
            "NUM | 16\n",
            "PUNCT | 27\n",
            "SCONJ | 1\n",
            "ADJ | 19\n",
            "SPACE | 10\n",
            "AUX | 6\n",
            "SYM | 5\n",
            "CCONJ | 12\n",
            "ADV | 2\n",
            "PART | 3\n",
            "PRON | 2\n"
          ]
        }
      ],
      "source": [
        "for k,v in count.items():\n",
        "    print(doc.vocab[k].text, \"|\",v)"
      ]
    }
  ],
  "metadata": {
    "kernelspec": {
      "display_name": "Python 3",
      "language": "python",
      "name": "python3"
    },
    "language_info": {
      "codemirror_mode": {
        "name": "ipython",
        "version": 3
      },
      "file_extension": ".py",
      "mimetype": "text/x-python",
      "name": "python",
      "nbconvert_exporter": "python",
      "pygments_lexer": "ipython3",
      "version": "3.8.5"
    },
    "colab": {
      "provenance": [],
      "include_colab_link": true
    }
  },
  "nbformat": 4,
  "nbformat_minor": 0
}