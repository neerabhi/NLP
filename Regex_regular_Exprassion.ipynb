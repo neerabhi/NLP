{
  "cells": [
    {
      "cell_type": "markdown",
      "metadata": {
        "id": "view-in-github",
        "colab_type": "text"
      },
      "source": [
        "<a href=\"https://colab.research.google.com/github/neerabhi/NLP/blob/main/Regex_regular_Exprassion.ipynb\" target=\"_parent\"><img src=\"https://colab.research.google.com/assets/colab-badge.svg\" alt=\"Open In Colab\"/></a>"
      ]
    },
    {
      "cell_type": "markdown",
      "metadata": {
        "id": "Q2zzqpGktjMj"
      },
      "source": [
        "<h1 align='center'>NLP Tutorial: Regular Expressions</h1>"
      ]
    },
    {
      "cell_type": "markdown",
      "metadata": {
        "id": "kCzkkntvtjMq"
      },
      "source": [
        "<h3>(1) Regex in customer support</h3>"
      ]
    },
    {
      "cell_type": "markdown",
      "metadata": {
        "id": "juyQP36atjMs"
      },
      "source": [
        "<h3>Retrieve order number</h3>"
      ]
    },
    {
      "cell_type": "code",
      "execution_count": null,
      "metadata": {
        "id": "mqkcLplhtjMt",
        "outputId": "d181c7ed-07e0-4a31-f3af-17066528fb60"
      },
      "outputs": [
        {
          "data": {
            "text/plain": [
              "['412889912']"
            ]
          },
          "execution_count": 56,
          "metadata": {},
          "output_type": "execute_result"
        }
      ],
      "source": [
        "import re\n",
        "\n",
        "chat1='codebasics: Hello, I am having an issue with my order # 412889912'\n",
        "\n",
        "pattern = 'order[^\\d]*(\\d*)'\n",
        "matches = re.findall(pattern, chat1)\n",
        "matches"
      ]
    },
    {
      "cell_type": "code",
      "execution_count": null,
      "metadata": {
        "id": "rIxi0zgUtjMy",
        "outputId": "b507c041-3d7d-4e23-c88c-f042a0ff5813"
      },
      "outputs": [
        {
          "data": {
            "text/plain": [
              "['412889912']"
            ]
          },
          "execution_count": 57,
          "metadata": {},
          "output_type": "execute_result"
        }
      ],
      "source": [
        "chat2='codebasics: I have a problem with my order number 412889912'\n",
        "pattern = 'order[^\\d]*(\\d*)'\n",
        "matches = re.findall(pattern, chat2)\n",
        "matches"
      ]
    },
    {
      "cell_type": "code",
      "execution_count": null,
      "metadata": {
        "scrolled": true,
        "id": "lKvba9fWtjMz",
        "outputId": "d8e4bf10-8296-4c1e-f8bb-4b11d28e547e"
      },
      "outputs": [
        {
          "data": {
            "text/plain": [
              "['412889912']"
            ]
          },
          "execution_count": 58,
          "metadata": {},
          "output_type": "execute_result"
        }
      ],
      "source": [
        "chat3='codebasics: My order 412889912 is having an issue, I was charged 300$ when online it says 280$'\n",
        "pattern = 'order[^\\d]*(\\d*)'\n",
        "matches = re.findall(pattern, chat3)\n",
        "matches"
      ]
    },
    {
      "cell_type": "code",
      "execution_count": null,
      "metadata": {
        "id": "KOzPHnpStjM0"
      },
      "outputs": [],
      "source": [
        "def get_pattern_match(pattern, text):\n",
        "    matches = re.findall(pattern, text)\n",
        "    if matches:\n",
        "        return matches[0]"
      ]
    },
    {
      "cell_type": "code",
      "execution_count": null,
      "metadata": {
        "id": "otOgfd9ltjM2",
        "outputId": "d6881756-9a20-4dd3-8ba5-36e3183f5dd8"
      },
      "outputs": [
        {
          "data": {
            "text/plain": [
              "'412889912'"
            ]
          },
          "execution_count": 60,
          "metadata": {},
          "output_type": "execute_result"
        }
      ],
      "source": [
        "get_pattern_match('order[^\\d]*(\\d*)', chat1)"
      ]
    },
    {
      "cell_type": "markdown",
      "metadata": {
        "id": "fzSbavL8tjM3"
      },
      "source": [
        "<h3>Retrieve email id and phone</h3>"
      ]
    },
    {
      "cell_type": "code",
      "execution_count": null,
      "metadata": {
        "id": "N7Lr3O1ktjM4"
      },
      "outputs": [],
      "source": [
        "chat1 = 'codebasics: you ask lot of questions 😠  1235678912, abc@xyz.com'\n",
        "chat2 = 'codebasics: here it is: (123)-567-8912, abc@xyz.com'\n",
        "chat3 = 'codebasics: yes, phone: 1235678912 email: abc@xyz.com'"
      ]
    },
    {
      "cell_type": "markdown",
      "metadata": {
        "id": "eeZqQHqntjM6"
      },
      "source": [
        "**-----Email id-----**"
      ]
    },
    {
      "cell_type": "code",
      "execution_count": null,
      "metadata": {
        "id": "lv8tv7oMtjM7",
        "outputId": "8e5735f8-edab-4303-e539-d27d4e6de7a7"
      },
      "outputs": [
        {
          "data": {
            "text/plain": [
              "'abc@xyz.com'"
            ]
          },
          "execution_count": 62,
          "metadata": {},
          "output_type": "execute_result"
        }
      ],
      "source": [
        "get_pattern_match('[a-zA-Z0-9_]*@[a-z]*\\.[a-zA-Z0-9]*',chat1)"
      ]
    },
    {
      "cell_type": "code",
      "execution_count": null,
      "metadata": {
        "id": "KCaF_VZ3tjM8",
        "outputId": "f86f3acd-20a8-4fba-f139-74de63b00148"
      },
      "outputs": [
        {
          "data": {
            "text/plain": [
              "'abc@xyz.com'"
            ]
          },
          "execution_count": 63,
          "metadata": {},
          "output_type": "execute_result"
        }
      ],
      "source": [
        "get_pattern_match('[a-zA-Z0-9_]*@[a-z]*\\.[a-zA-Z0-9]*',chat2)"
      ]
    },
    {
      "cell_type": "code",
      "execution_count": null,
      "metadata": {
        "scrolled": true,
        "id": "jVcUkW-xtjM8",
        "outputId": "05555635-0a65-4396-bd74-a57149817389"
      },
      "outputs": [
        {
          "data": {
            "text/plain": [
              "'abc@xyz.com'"
            ]
          },
          "execution_count": 64,
          "metadata": {},
          "output_type": "execute_result"
        }
      ],
      "source": [
        "get_pattern_match('[a-zA-Z0-9_]*@[a-z]*\\.[a-zA-Z0-9]*',chat3)"
      ]
    },
    {
      "cell_type": "markdown",
      "metadata": {
        "id": "AkHkhpIPtjM-"
      },
      "source": [
        "**-----Phone number-----**"
      ]
    },
    {
      "cell_type": "code",
      "execution_count": null,
      "metadata": {
        "id": "w73n1QN5tjM-",
        "outputId": "020eab18-098b-49ce-f30c-5dfe445b4d5d"
      },
      "outputs": [
        {
          "data": {
            "text/plain": [
              "'1235678912'"
            ]
          },
          "execution_count": 39,
          "metadata": {},
          "output_type": "execute_result"
        }
      ],
      "source": [
        "get_pattern_match('(\\d{10})|(\\(\\d{3}\\)-\\d{3}-\\d{4})',chat1)"
      ]
    },
    {
      "cell_type": "code",
      "execution_count": null,
      "metadata": {
        "id": "ONeWdi9KtjM_",
        "outputId": "655bd93f-4ad8-4c6d-a36d-f9cf15976069"
      },
      "outputs": [
        {
          "data": {
            "text/plain": [
              "('', '(123)-567-8912')"
            ]
          },
          "execution_count": 67,
          "metadata": {},
          "output_type": "execute_result"
        }
      ],
      "source": [
        "get_pattern_match('(\\d{10})|(\\(\\d{3}\\)-\\d{3}-\\d{4})', chat2)"
      ]
    },
    {
      "cell_type": "code",
      "execution_count": null,
      "metadata": {
        "id": "pewwaFnztjNA",
        "outputId": "7e889328-e762-42bd-c0f4-8cefbe1ec64b"
      },
      "outputs": [
        {
          "data": {
            "text/plain": [
              "('1235678912', '')"
            ]
          },
          "execution_count": 68,
          "metadata": {},
          "output_type": "execute_result"
        }
      ],
      "source": [
        "get_pattern_match('(\\d{10})|(\\(\\d{3}\\)-\\d{3}-\\d{4})', chat3)"
      ]
    },
    {
      "cell_type": "markdown",
      "metadata": {
        "id": "cxERfFBVtjNB"
      },
      "source": [
        "<h3>(2) Regex for Information Extraction</h3>"
      ]
    },
    {
      "cell_type": "code",
      "execution_count": null,
      "metadata": {
        "id": "icANPMJqtjNC"
      },
      "outputs": [],
      "source": [
        "text='''\n",
        "Born\tElon Reeve Musk\n",
        "June 28, 1971 (age 50)\n",
        "Pretoria, Transvaal, South Africa\n",
        "Citizenship\n",
        "South Africa (1971–present)\n",
        "Canada (1971–present)\n",
        "United States (2002–present)\n",
        "Education\tUniversity of Pennsylvania (BS, BA)\n",
        "Title\n",
        "Founder, CEO and Chief Engineer of SpaceX\n",
        "CEO and product architect of Tesla, Inc.\n",
        "Founder of The Boring Company and X.com (now part of PayPal)\n",
        "Co-founder of Neuralink, OpenAI, and Zip2\n",
        "Spouse(s)\n",
        "Justine Wilson\n",
        "​\n",
        "​(m. 2000; div. 2008)​\n",
        "Talulah Riley\n",
        "​\n",
        "​(m. 2010; div. 2012)​\n",
        "​\n",
        "​(m. 2013; div. 2016)\n",
        "'''"
      ]
    },
    {
      "cell_type": "code",
      "execution_count": null,
      "metadata": {
        "id": "AAIQkxWatjND",
        "outputId": "22487ffb-794a-49e0-8b93-cc47a40d31b2"
      },
      "outputs": [
        {
          "data": {
            "text/plain": [
              "'50'"
            ]
          },
          "execution_count": 71,
          "metadata": {},
          "output_type": "execute_result"
        }
      ],
      "source": [
        "get_pattern_match(r'age (\\d+)', text)"
      ]
    },
    {
      "cell_type": "code",
      "execution_count": null,
      "metadata": {
        "id": "5KYr1mfmtjNE",
        "outputId": "d89a9af7-7d0a-45d1-8feb-828ad802a1af"
      },
      "outputs": [
        {
          "data": {
            "text/plain": [
              "'Elon Reeve Musk'"
            ]
          },
          "execution_count": 73,
          "metadata": {},
          "output_type": "execute_result"
        }
      ],
      "source": [
        "get_pattern_match(r'Born(.*)\\n', text).strip()"
      ]
    },
    {
      "cell_type": "code",
      "execution_count": null,
      "metadata": {
        "id": "teHP1SPLtjNE",
        "outputId": "c5e0c807-0f9b-48d8-ea16-5b63de768798"
      },
      "outputs": [
        {
          "data": {
            "text/plain": [
              "'June 28, 1971'"
            ]
          },
          "execution_count": 74,
          "metadata": {},
          "output_type": "execute_result"
        }
      ],
      "source": [
        "get_pattern_match(r'Born.*\\n(.*)\\(age', text).strip()"
      ]
    },
    {
      "cell_type": "code",
      "execution_count": null,
      "metadata": {
        "id": "2zPmX_DetjNF",
        "outputId": "5e265030-9d82-44a4-c85b-6535c277a951"
      },
      "outputs": [
        {
          "data": {
            "text/plain": [
              "'Pretoria, Transvaal, South Africa'"
            ]
          },
          "execution_count": 75,
          "metadata": {},
          "output_type": "execute_result"
        }
      ],
      "source": [
        "get_pattern_match(r'\\(age.*\\n(.*)', text)"
      ]
    },
    {
      "cell_type": "code",
      "execution_count": null,
      "metadata": {
        "id": "QB15opYrtjNG"
      },
      "outputs": [],
      "source": [
        "def extract_personal_information(text):\n",
        "    age = get_pattern_match('age (\\d+)', text)\n",
        "    full_name = get_pattern_match('Born(.*)\\n', text)\n",
        "    birth_date = get_pattern_match('Born.*\\n(.*)\\(age', text)\n",
        "    birth_place = get_pattern_match('\\(age.*\\n(.*)', text)\n",
        "    return {\n",
        "        'age': int(age),\n",
        "        'name': full_name.strip(),\n",
        "        'birth_date': birth_date.strip(),\n",
        "        'birth_place': birth_place.strip()\n",
        "    }"
      ]
    },
    {
      "cell_type": "code",
      "execution_count": null,
      "metadata": {
        "id": "4FsGNbW5tjNG",
        "outputId": "1c4daa0f-1256-433d-fc0f-80285d49139f"
      },
      "outputs": [
        {
          "data": {
            "text/plain": [
              "{'age': 50,\n",
              " 'name': 'Elon Reeve Musk',\n",
              " 'birth_date': 'June 28, 1971',\n",
              " 'birth_place': 'Pretoria, Transvaal, South Africa'}"
            ]
          },
          "execution_count": 79,
          "metadata": {},
          "output_type": "execute_result"
        }
      ],
      "source": [
        "extract_personal_information(text)"
      ]
    },
    {
      "cell_type": "code",
      "execution_count": null,
      "metadata": {
        "id": "hED6bScVtjNH"
      },
      "outputs": [],
      "source": [
        "text = '''\n",
        "Born\tMukesh Dhirubhai Ambani\n",
        "19 April 1957 (age 64)\n",
        "Aden, Colony of Aden\n",
        "(present-day Yemen)[1][2]\n",
        "Nationality\tIndian\n",
        "Alma mater\n",
        "St. Xavier's College, Mumbai\n",
        "Institute of Chemical Technology (B.E.)\n",
        "Stanford University (drop-out)\n",
        "Occupation\tChairman and MD, Reliance Industries\n",
        "Spouse(s)\tNita Ambani ​(m. 1985)​[3]\n",
        "Children\t3\n",
        "Parent(s)\n",
        "Dhirubhai Ambani (father)\n",
        "Kokilaben Ambani (mother)\n",
        "Relatives\tAnil Ambani (brother)\n",
        "Tina Ambani (sister-in-law)\n",
        "'''"
      ]
    },
    {
      "cell_type": "code",
      "execution_count": null,
      "metadata": {
        "scrolled": true,
        "id": "NQ8JCmj1tjNH",
        "outputId": "2f0a2a82-b993-4951-a001-732e0e5f6ec8"
      },
      "outputs": [
        {
          "data": {
            "text/plain": [
              "{'age': 64,\n",
              " 'name': 'Mukesh Dhirubhai Ambani',\n",
              " 'birth_date': '19 April 1957',\n",
              " 'birth_place': 'Aden, Colony of Aden'}"
            ]
          },
          "execution_count": 81,
          "metadata": {},
          "output_type": "execute_result"
        }
      ],
      "source": [
        "extract_personal_information(text)"
      ]
    },
    {
      "cell_type": "markdown",
      "metadata": {
        "id": "A5QmTeOLtjNI"
      },
      "source": [
        "<h3>References</h3>"
      ]
    },
    {
      "cell_type": "markdown",
      "metadata": {
        "id": "zmpJAvmYtjNJ"
      },
      "source": [
        "Please refer to my videon on python regular expressions to learn more: https://www.youtube.com/watch?v=sHw5hLYFaIw\n",
        "\n",
        "Here is the code of that video: https://github.com/codebasics/py/blob/master/Advanced/regex/regex_tutorial_python.ipynb"
      ]
    },
    {
      "cell_type": "markdown",
      "metadata": {
        "id": "rrxVabBPtjNJ"
      },
      "source": [
        "<h3>Exercise</h3>"
      ]
    },
    {
      "cell_type": "markdown",
      "metadata": {
        "id": "TjperE53tjNK"
      },
      "source": [
        "https://github.com/codebasics/nlp-tutorials/blob/main/1_regex/regex_nlp_exercise_questions.ipynb"
      ]
    }
  ],
  "metadata": {
    "kernelspec": {
      "display_name": "Python 3",
      "language": "python",
      "name": "python3"
    },
    "language_info": {
      "codemirror_mode": {
        "name": "ipython",
        "version": 3
      },
      "file_extension": ".py",
      "mimetype": "text/x-python",
      "name": "python",
      "nbconvert_exporter": "python",
      "pygments_lexer": "ipython3",
      "version": "3.8.5"
    },
    "colab": {
      "provenance": [],
      "include_colab_link": true
    }
  },
  "nbformat": 4,
  "nbformat_minor": 0
}